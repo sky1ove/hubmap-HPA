{
 "cells": [
  {
   "cell_type": "code",
   "execution_count": 3,
   "metadata": {},
   "outputs": [
    {
     "data": {
      "text/html": [
       "<style>\n",
       ".tooltip {\n",
       "  position: relative;\n",
       "  display: inline-block;\n",
       "}\n",
       "\n",
       ".tooltip .tooltiptext {\n",
       "  visibility: hidden;\n",
       "  width: max-content;\n",
       "  max-width: 280px;\n",
       "  background-color: #00bcd4;\n",
       "  text-align: left;\n",
       "  color: white;\n",
       "  border-radius: 4px;\n",
       "  padding: 4px 4px;\n",
       "  border: solid 0px black;\n",
       "  line-height: 1em;\n",
       "\n",
       "  /* Position the tooltip */\n",
       "  position: absolute;\n",
       "  z-index: 1;\n",
       "}\n",
       "\n",
       ".tooltip:hover .tooltiptext {\n",
       "  visibility: visible;\n",
       "}\n",
       "</style>"
      ],
      "text/plain": [
       "<IPython.core.display.HTML object>"
      ]
     },
     "metadata": {},
     "output_type": "display_data"
    },
    {
     "name": "stdout",
     "output_type": "stream",
     "text": [
      "Collecting rasterio\n",
      "  Downloading rasterio-1.3.2-cp39-cp39-manylinux_2_17_x86_64.manylinux2014_x86_64.whl (20.9 MB)\n",
      "\u001b[2K     \u001b[90m━━━━━━━━━━━━━━━━━━━━━━━━━━━━━━━━━━━━━━━━\u001b[0m \u001b[32m20.9/20.9 MB\u001b[0m \u001b[31m26.6 MB/s\u001b[0m eta \u001b[36m0:00:00\u001b[0m00:01\u001b[0m00:01\u001b[0m\n",
      "\u001b[?25hRequirement already satisfied: click>=4.0 in /usr/local/lib/python3.9/dist-packages (from rasterio) (8.1.3)\n",
      "Collecting affine\n",
      "  Downloading affine-2.3.1-py2.py3-none-any.whl (16 kB)\n",
      "Collecting cligj>=0.5\n",
      "  Downloading cligj-0.7.2-py3-none-any.whl (7.1 kB)\n",
      "Requirement already satisfied: certifi in /usr/lib/python3/dist-packages (from rasterio) (2019.11.28)\n",
      "Requirement already satisfied: numpy>=1.18 in /usr/local/lib/python3.9/dist-packages (from rasterio) (1.23.1)\n",
      "Collecting snuggs>=1.4.1\n",
      "  Downloading snuggs-1.4.7-py3-none-any.whl (5.4 kB)\n",
      "Collecting click-plugins\n",
      "  Downloading click_plugins-1.1.1-py2.py3-none-any.whl (7.5 kB)\n",
      "Requirement already satisfied: attrs in /usr/local/lib/python3.9/dist-packages (from rasterio) (18.2.0)\n",
      "Requirement already satisfied: setuptools in /usr/local/lib/python3.9/dist-packages (from rasterio) (63.1.0)\n",
      "Requirement already satisfied: pyparsing>=2.1.6 in /usr/local/lib/python3.9/dist-packages (from snuggs>=1.4.1->rasterio) (3.0.9)\n",
      "Installing collected packages: affine, snuggs, cligj, click-plugins, rasterio\n",
      "Successfully installed affine-2.3.1 click-plugins-1.1.1 cligj-0.7.2 rasterio-1.3.2 snuggs-1.4.7\n",
      "\u001b[33mWARNING: Running pip as the 'root' user can result in broken permissions and conflicting behaviour with the system package manager. It is recommended to use a virtual environment instead: https://pip.pypa.io/warnings/venv\u001b[0m\u001b[33m\n",
      "\u001b[0m"
     ]
    }
   ],
   "source": [
    "# !pip install zarr\n",
    "# !pip install fastai\n",
    "# !pip install --no-deps deepflash2-lfs/\n",
    "# !pip install segmentation_models_pytorch\n",
    "# !pip install albumentations\n",
    "# !pip install rasterio"
   ]
  },
  {
   "cell_type": "code",
   "execution_count": 4,
   "metadata": {
    "_kg_hide-input": true,
    "papermill": {
     "duration": 29.823586,
     "end_time": "2022-09-21T23:57:03.837795",
     "exception": false,
     "start_time": "2022-09-21T23:56:34.014209",
     "status": "completed"
    },
    "tags": []
   },
   "outputs": [
    {
     "data": {
      "text/html": [
       "<style>\n",
       ".tooltip {\n",
       "  position: relative;\n",
       "  display: inline-block;\n",
       "}\n",
       "\n",
       ".tooltip .tooltiptext {\n",
       "  visibility: hidden;\n",
       "  width: max-content;\n",
       "  max-width: 280px;\n",
       "  background-color: #00bcd4;\n",
       "  text-align: left;\n",
       "  color: white;\n",
       "  border-radius: 4px;\n",
       "  padding: 4px 4px;\n",
       "  border: solid 0px black;\n",
       "  line-height: 1em;\n",
       "\n",
       "  /* Position the tooltip */\n",
       "  position: absolute;\n",
       "  z-index: 1;\n",
       "}\n",
       "\n",
       ".tooltip:hover .tooltiptext {\n",
       "  visibility: visible;\n",
       "}\n",
       "</style>"
      ],
      "text/plain": [
       "<IPython.core.display.HTML object>"
      ]
     },
     "metadata": {},
     "output_type": "display_data"
    },
    {
     "name": "stderr",
     "output_type": "stream",
     "text": [
      "/tmp/ipykernel_6780/5067725.py:12: DeprecationWarning: Please use `gaussian_filter` from the `scipy.ndimage` namespace, the `scipy.ndimage.filters` namespace is deprecated.\n",
      "  from scipy .ndimage.filters import gaussian_filter\n"
     ]
    }
   ],
   "source": [
    "import sys\n",
    "\n",
    "import cv2, torch, zarr, tifffile, pandas as pd, gc\n",
    "from fastai.vision.all import *\n",
    "from deepflash2.all import *\n",
    "import segmentation_models_pytorch as smp\n",
    "import albumentations as alb\n",
    "\n",
    "from pathlib import Path\n",
    "from rasterio.windows import Window\n",
    "from torch.utils.data import Dataset, DataLoader\n",
    "from scipy .ndimage.filters import gaussian_filter\n",
    "from tqdm.notebook import tqdm\n",
    "\n",
    "import warnings\n",
    "warnings.filterwarnings(\"ignore\")"
   ]
  },
  {
   "cell_type": "code",
   "execution_count": 9,
   "metadata": {},
   "outputs": [
    {
     "data": {
      "text/html": [
       "<style>\n",
       ".tooltip {\n",
       "  position: relative;\n",
       "  display: inline-block;\n",
       "}\n",
       "\n",
       ".tooltip .tooltiptext {\n",
       "  visibility: hidden;\n",
       "  width: max-content;\n",
       "  max-width: 280px;\n",
       "  background-color: #00bcd4;\n",
       "  text-align: left;\n",
       "  color: white;\n",
       "  border-radius: 4px;\n",
       "  padding: 4px 4px;\n",
       "  border: solid 0px black;\n",
       "  line-height: 1em;\n",
       "\n",
       "  /* Position the tooltip */\n",
       "  position: absolute;\n",
       "  z-index: 1;\n",
       "}\n",
       "\n",
       ".tooltip:hover .tooltiptext {\n",
       "  visibility: visible;\n",
       "}\n",
       "</style>"
      ],
      "text/plain": [
       "<IPython.core.display.HTML object>"
      ]
     },
     "metadata": {},
     "output_type": "display_data"
    }
   ],
   "source": [
    "import slideio"
   ]
  },
  {
   "cell_type": "code",
   "execution_count": 5,
   "metadata": {
    "_kg_hide-input": true,
    "papermill": {
     "duration": 0.024104,
     "end_time": "2022-09-21T23:57:03.875489",
     "exception": false,
     "start_time": "2022-09-21T23:57:03.851385",
     "status": "completed"
    },
    "tags": []
   },
   "outputs": [
    {
     "data": {
      "text/html": [
       "<style>\n",
       ".tooltip {\n",
       "  position: relative;\n",
       "  display: inline-block;\n",
       "}\n",
       "\n",
       ".tooltip .tooltiptext {\n",
       "  visibility: hidden;\n",
       "  width: max-content;\n",
       "  max-width: 280px;\n",
       "  background-color: #00bcd4;\n",
       "  text-align: left;\n",
       "  color: white;\n",
       "  border-radius: 4px;\n",
       "  padding: 4px 4px;\n",
       "  border: solid 0px black;\n",
       "  line-height: 1em;\n",
       "\n",
       "  /* Position the tooltip */\n",
       "  position: absolute;\n",
       "  z-index: 1;\n",
       "}\n",
       "\n",
       ".tooltip:hover .tooltiptext {\n",
       "  visibility: visible;\n",
       "}\n",
       "</style>"
      ],
      "text/plain": [
       "<IPython.core.display.HTML object>"
      ]
     },
     "metadata": {},
     "output_type": "display_data"
    }
   ],
   "source": [
    "#https://www.kaggle.com/bguberfain/memory-aware-rle-encoding\n",
    "#with transposed mask\n",
    "def rle_encode_less_memory(img):\n",
    "    #the image should be transposed\n",
    "    pixels = img.T.flatten()\n",
    "    \n",
    "    # This simplified method requires first and last pixel to be zero\n",
    "    pixels[0] = 0\n",
    "    pixels[-1] = 0\n",
    "    runs = np.where(pixels[1:] != pixels[:-1])[0] + 2\n",
    "    runs[1::2] -= runs[::2]\n",
    "    \n",
    "    return ' '.join(str(x) for x in runs)\n",
    "\n",
    "def load_model_weights(model, file, strict=True):\n",
    "    state = torch.load(file, map_location='cpu')\n",
    "    stats = state['stats']\n",
    "    model_state = state['model']\n",
    "    model.load_state_dict(model_state, strict=strict)\n",
    "    return model, stats\n",
    "\n",
    "# from https://github.com/MIC-DKFZ/nnUNet/blob/2fade8f32607220f8598544f0d5b5e5fa73768e5/nnunet/network_architecture/neural_network.py#L250\n",
    "def _get_gaussian(patch_size, sigma_scale=1. / 8) -> np.ndarray:\n",
    "    tmp = np.zeros(patch_size)\n",
    "    center_coords = [i // 2 for i in patch_size]\n",
    "    sigmas = [i * sigma_scale for i in patch_size]\n",
    "    tmp[tuple(center_coords)] = 1\n",
    "    gaussian_importance_map = gaussian_filter(tmp, sigmas, 0, mode='constant', cval=0)\n",
    "    gaussian_importance_map = gaussian_importance_map / np.max(gaussian_importance_map) * 1\n",
    "    gaussian_importance_map = gaussian_importance_map.astype(np.float32)\n",
    "\n",
    "    # gaussian_importance_map cannot be 0, otherwise we may end up with nans!\n",
    "    gaussian_importance_map[gaussian_importance_map == 0] = np.min(\n",
    "        gaussian_importance_map[gaussian_importance_map != 0])\n",
    "\n",
    "    return gaussian_importance_map"
   ]
  },
  {
   "cell_type": "code",
   "execution_count": 11,
   "metadata": {},
   "outputs": [
    {
     "data": {
      "text/html": [
       "<style>\n",
       ".tooltip {\n",
       "  position: relative;\n",
       "  display: inline-block;\n",
       "}\n",
       "\n",
       ".tooltip .tooltiptext {\n",
       "  visibility: hidden;\n",
       "  width: max-content;\n",
       "  max-width: 280px;\n",
       "  background-color: #00bcd4;\n",
       "  text-align: left;\n",
       "  color: white;\n",
       "  border-radius: 4px;\n",
       "  padding: 4px 4px;\n",
       "  border: solid 0px black;\n",
       "  line-height: 1em;\n",
       "\n",
       "  /* Position the tooltip */\n",
       "  position: absolute;\n",
       "  z-index: 1;\n",
       "}\n",
       "\n",
       ".tooltip:hover .tooltiptext {\n",
       "  visibility: visible;\n",
       "}\n",
       "</style>"
      ],
      "text/plain": [
       "<IPython.core.display.HTML object>"
      ]
     },
     "metadata": {},
     "output_type": "display_data"
    }
   ],
   "source": [
    "idx = 'GTEX-11P82-1126'"
   ]
  },
  {
   "cell_type": "code",
   "execution_count": 12,
   "metadata": {},
   "outputs": [
    {
     "data": {
      "text/html": [
       "<style>\n",
       ".tooltip {\n",
       "  position: relative;\n",
       "  display: inline-block;\n",
       "}\n",
       "\n",
       ".tooltip .tooltiptext {\n",
       "  visibility: hidden;\n",
       "  width: max-content;\n",
       "  max-width: 280px;\n",
       "  background-color: #00bcd4;\n",
       "  text-align: left;\n",
       "  color: white;\n",
       "  border-radius: 4px;\n",
       "  padding: 4px 4px;\n",
       "  border: solid 0px black;\n",
       "  line-height: 1em;\n",
       "\n",
       "  /* Position the tooltip */\n",
       "  position: absolute;\n",
       "  z-index: 1;\n",
       "}\n",
       "\n",
       ".tooltip:hover .tooltiptext {\n",
       "  visibility: visible;\n",
       "}\n",
       "</style>"
      ],
      "text/plain": [
       "<IPython.core.display.HTML object>"
      ]
     },
     "metadata": {},
     "output_type": "display_data"
    }
   ],
   "source": [
    "data = slideio.open_slide(f'external/{idx}.svs','SVS').get_scene(0)"
   ]
  },
  {
   "cell_type": "code",
   "execution_count": 14,
   "metadata": {},
   "outputs": [
    {
     "data": {
      "text/html": [
       "<style>\n",
       ".tooltip {\n",
       "  position: relative;\n",
       "  display: inline-block;\n",
       "}\n",
       "\n",
       ".tooltip .tooltiptext {\n",
       "  visibility: hidden;\n",
       "  width: max-content;\n",
       "  max-width: 280px;\n",
       "  background-color: #00bcd4;\n",
       "  text-align: left;\n",
       "  color: white;\n",
       "  border-radius: 4px;\n",
       "  padding: 4px 4px;\n",
       "  border: solid 0px black;\n",
       "  line-height: 1em;\n",
       "\n",
       "  /* Position the tooltip */\n",
       "  position: absolute;\n",
       "  z-index: 1;\n",
       "}\n",
       "\n",
       ".tooltip:hover .tooltiptext {\n",
       "  visibility: visible;\n",
       "}\n",
       "</style>"
      ],
      "text/plain": [
       "<IPython.core.display.HTML object>"
      ]
     },
     "metadata": {},
     "output_type": "display_data"
    }
   ],
   "source": [
    "shape = (34874,25000)"
   ]
  },
  {
   "cell_type": "code",
   "execution_count": 30,
   "metadata": {},
   "outputs": [
    {
     "data": {
      "text/html": [
       "<style>\n",
       ".tooltip {\n",
       "  position: relative;\n",
       "  display: inline-block;\n",
       "}\n",
       "\n",
       ".tooltip .tooltiptext {\n",
       "  visibility: hidden;\n",
       "  width: max-content;\n",
       "  max-width: 280px;\n",
       "  background-color: #00bcd4;\n",
       "  text-align: left;\n",
       "  color: white;\n",
       "  border-radius: 4px;\n",
       "  padding: 4px 4px;\n",
       "  border: solid 0px black;\n",
       "  line-height: 1em;\n",
       "\n",
       "  /* Position the tooltip */\n",
       "  position: absolute;\n",
       "  z-index: 1;\n",
       "}\n",
       "\n",
       ".tooltip:hover .tooltiptext {\n",
       "  visibility: visible;\n",
       "}\n",
       "</style>"
      ],
      "text/plain": [
       "<IPython.core.display.HTML object>"
      ]
     },
     "metadata": {},
     "output_type": "display_data"
    }
   ],
   "source": [
    "scale =1\n",
    "shift=0.8\n",
    "output_shape=(512,512)\n",
    "input_shape = tuple(int(t*scale) for t in output_shape) \n",
    "\n",
    "slices = []\n",
    "out_slices = []\n",
    "out_data_shape = tuple(int(x//scale) for x in shape)\n",
    "start_points = [o//2 for o in output_shape]\n",
    "end_points = [(s - st) for s, st in zip(out_data_shape, start_points)]\n",
    "n_points = [int(s//(o*shift))+1 for s, o in zip(out_data_shape, output_shape)]\n",
    "center_points = [np.linspace(st, e, num=n, endpoint=True, dtype=np.int64) for st, e, n in zip(start_points, end_points, n_points)]\n"
   ]
  },
  {
   "cell_type": "code",
   "execution_count": 31,
   "metadata": {},
   "outputs": [
    {
     "data": {
      "text/html": [
       "<style>\n",
       ".tooltip {\n",
       "  position: relative;\n",
       "  display: inline-block;\n",
       "}\n",
       "\n",
       ".tooltip .tooltiptext {\n",
       "  visibility: hidden;\n",
       "  width: max-content;\n",
       "  max-width: 280px;\n",
       "  background-color: #00bcd4;\n",
       "  text-align: left;\n",
       "  color: white;\n",
       "  border-radius: 4px;\n",
       "  padding: 4px 4px;\n",
       "  border: solid 0px black;\n",
       "  line-height: 1em;\n",
       "\n",
       "  /* Position the tooltip */\n",
       "  position: absolute;\n",
       "  z-index: 1;\n",
       "}\n",
       "\n",
       ".tooltip:hover .tooltiptext {\n",
       "  visibility: visible;\n",
       "}\n",
       "</style>"
      ],
      "text/plain": [
       "<IPython.core.display.HTML object>"
      ]
     },
     "metadata": {},
     "output_type": "display_data"
    },
    {
     "data": {
      "text/plain": [
       "(512, 512)"
      ]
     },
     "execution_count": 31,
     "metadata": {},
     "output_type": "execute_result"
    }
   ],
   "source": [
    "input_shape"
   ]
  },
  {
   "cell_type": "code",
   "execution_count": 25,
   "metadata": {},
   "outputs": [
    {
     "data": {
      "text/html": [
       "<style>\n",
       ".tooltip {\n",
       "  position: relative;\n",
       "  display: inline-block;\n",
       "}\n",
       "\n",
       ".tooltip .tooltiptext {\n",
       "  visibility: hidden;\n",
       "  width: max-content;\n",
       "  max-width: 280px;\n",
       "  background-color: #00bcd4;\n",
       "  text-align: left;\n",
       "  color: white;\n",
       "  border-radius: 4px;\n",
       "  padding: 4px 4px;\n",
       "  border: solid 0px black;\n",
       "  line-height: 1em;\n",
       "\n",
       "  /* Position the tooltip */\n",
       "  position: absolute;\n",
       "  z-index: 1;\n",
       "}\n",
       "\n",
       ".tooltip:hover .tooltiptext {\n",
       "  visibility: visible;\n",
       "}\n",
       "</style>"
      ],
      "text/plain": [
       "<IPython.core.display.HTML object>"
      ]
     },
     "metadata": {},
     "output_type": "display_data"
    },
    {
     "data": {
      "text/plain": [
       "[256, 256]"
      ]
     },
     "execution_count": 25,
     "metadata": {},
     "output_type": "execute_result"
    }
   ],
   "source": [
    "start_points #center of first tile"
   ]
  },
  {
   "cell_type": "code",
   "execution_count": 26,
   "metadata": {},
   "outputs": [
    {
     "data": {
      "text/html": [
       "<style>\n",
       ".tooltip {\n",
       "  position: relative;\n",
       "  display: inline-block;\n",
       "}\n",
       "\n",
       ".tooltip .tooltiptext {\n",
       "  visibility: hidden;\n",
       "  width: max-content;\n",
       "  max-width: 280px;\n",
       "  background-color: #00bcd4;\n",
       "  text-align: left;\n",
       "  color: white;\n",
       "  border-radius: 4px;\n",
       "  padding: 4px 4px;\n",
       "  border: solid 0px black;\n",
       "  line-height: 1em;\n",
       "\n",
       "  /* Position the tooltip */\n",
       "  position: absolute;\n",
       "  z-index: 1;\n",
       "}\n",
       "\n",
       ".tooltip:hover .tooltiptext {\n",
       "  visibility: visible;\n",
       "}\n",
       "</style>"
      ],
      "text/plain": [
       "<IPython.core.display.HTML object>"
      ]
     },
     "metadata": {},
     "output_type": "display_data"
    },
    {
     "data": {
      "text/plain": [
       "[34618, 24744]"
      ]
     },
     "execution_count": 26,
     "metadata": {},
     "output_type": "execute_result"
    }
   ],
   "source": [
    "end_points #center of final tile"
   ]
  },
  {
   "cell_type": "code",
   "execution_count": 27,
   "metadata": {},
   "outputs": [
    {
     "data": {
      "text/html": [
       "<style>\n",
       ".tooltip {\n",
       "  position: relative;\n",
       "  display: inline-block;\n",
       "}\n",
       "\n",
       ".tooltip .tooltiptext {\n",
       "  visibility: hidden;\n",
       "  width: max-content;\n",
       "  max-width: 280px;\n",
       "  background-color: #00bcd4;\n",
       "  text-align: left;\n",
       "  color: white;\n",
       "  border-radius: 4px;\n",
       "  padding: 4px 4px;\n",
       "  border: solid 0px black;\n",
       "  line-height: 1em;\n",
       "\n",
       "  /* Position the tooltip */\n",
       "  position: absolute;\n",
       "  z-index: 1;\n",
       "}\n",
       "\n",
       ".tooltip:hover .tooltiptext {\n",
       "  visibility: visible;\n",
       "}\n",
       "</style>"
      ],
      "text/plain": [
       "<IPython.core.display.HTML object>"
      ]
     },
     "metadata": {},
     "output_type": "display_data"
    },
    {
     "data": {
      "text/plain": [
       "[86, 62]"
      ]
     },
     "execution_count": 27,
     "metadata": {},
     "output_type": "execute_result"
    }
   ],
   "source": [
    "n_points # number of tiles in height, and in width"
   ]
  },
  {
   "cell_type": "code",
   "execution_count": 28,
   "metadata": {},
   "outputs": [
    {
     "data": {
      "text/html": [
       "<style>\n",
       ".tooltip {\n",
       "  position: relative;\n",
       "  display: inline-block;\n",
       "}\n",
       "\n",
       ".tooltip .tooltiptext {\n",
       "  visibility: hidden;\n",
       "  width: max-content;\n",
       "  max-width: 280px;\n",
       "  background-color: #00bcd4;\n",
       "  text-align: left;\n",
       "  color: white;\n",
       "  border-radius: 4px;\n",
       "  padding: 4px 4px;\n",
       "  border: solid 0px black;\n",
       "  line-height: 1em;\n",
       "\n",
       "  /* Position the tooltip */\n",
       "  position: absolute;\n",
       "  z-index: 1;\n",
       "}\n",
       "\n",
       ".tooltip:hover .tooltiptext {\n",
       "  visibility: visible;\n",
       "}\n",
       "</style>"
      ],
      "text/plain": [
       "<IPython.core.display.HTML object>"
      ]
     },
     "metadata": {},
     "output_type": "display_data"
    },
    {
     "data": {
      "text/plain": [
       "[array([  256,   660,  1064,  1468,  1873,  2277,  2681,  3085,  3490,\n",
       "         3894,  4298,  4702,  5107,  5511,  5915,  6319,  6724,  7128,\n",
       "         7532,  7936,  8341,  8745,  9149,  9553,  9958, 10362, 10766,\n",
       "        11170, 11575, 11979, 12383, 12788, 13192, 13596, 14000, 14405,\n",
       "        14809, 15213, 15617, 16022, 16426, 16830, 17234, 17639, 18043,\n",
       "        18447, 18851, 19256, 19660, 20064, 20468, 20873, 21277, 21681,\n",
       "        22085, 22490, 22894, 23298, 23703, 24107, 24511, 24915, 25320,\n",
       "        25724, 26128, 26532, 26937, 27341, 27745, 28149, 28554, 28958,\n",
       "        29362, 29766, 30171, 30575, 30979, 31383, 31788, 32192, 32596,\n",
       "        33000, 33405, 33809, 34213, 34618]),\n",
       " array([  256,   657,  1058,  1460,  1861,  2263,  2664,  3066,  3467,\n",
       "         3868,  4270,  4671,  5073,  5474,  5876,  6277,  6679,  7080,\n",
       "         7481,  7883,  8284,  8686,  9087,  9489,  9890, 10292, 10693,\n",
       "        11094, 11496, 11897, 12299, 12700, 13102, 13503, 13905, 14306,\n",
       "        14707, 15109, 15510, 15912, 16313, 16715, 17116, 17518, 17919,\n",
       "        18320, 18722, 19123, 19525, 19926, 20328, 20729, 21131, 21532,\n",
       "        21933, 22335, 22736, 23138, 23539, 23941, 24342, 24744])]"
      ]
     },
     "execution_count": 28,
     "metadata": {},
     "output_type": "execute_result"
    }
   ],
   "source": [
    "center_points #tiles center of all tiles"
   ]
  },
  {
   "cell_type": "code",
   "execution_count": 74,
   "metadata": {},
   "outputs": [
    {
     "data": {
      "text/html": [
       "<style>\n",
       ".tooltip {\n",
       "  position: relative;\n",
       "  display: inline-block;\n",
       "}\n",
       "\n",
       ".tooltip .tooltiptext {\n",
       "  visibility: hidden;\n",
       "  width: max-content;\n",
       "  max-width: 280px;\n",
       "  background-color: #00bcd4;\n",
       "  text-align: left;\n",
       "  color: white;\n",
       "  border-radius: 4px;\n",
       "  padding: 4px 4px;\n",
       "  border: solid 0px black;\n",
       "  line-height: 1em;\n",
       "\n",
       "  /* Position the tooltip */\n",
       "  position: absolute;\n",
       "  z-index: 1;\n",
       "}\n",
       "\n",
       ".tooltip:hover .tooltiptext {\n",
       "  visibility: visible;\n",
       "}\n",
       "</style>"
      ],
      "text/plain": [
       "<IPython.core.display.HTML object>"
      ]
     },
     "metadata": {},
     "output_type": "display_data"
    },
    {
     "data": {
      "text/plain": [
       "(0, 512)"
      ]
     },
     "execution_count": 74,
     "metadata": {},
     "output_type": "execute_result"
    }
   ],
   "source": [
    "slices[1]"
   ]
  },
  {
   "cell_type": "code",
   "execution_count": 24,
   "metadata": {},
   "outputs": [
    {
     "data": {
      "text/html": [
       "<style>\n",
       ".tooltip {\n",
       "  position: relative;\n",
       "  display: inline-block;\n",
       "}\n",
       "\n",
       ".tooltip .tooltiptext {\n",
       "  visibility: hidden;\n",
       "  width: max-content;\n",
       "  max-width: 280px;\n",
       "  background-color: #00bcd4;\n",
       "  text-align: left;\n",
       "  color: white;\n",
       "  border-radius: 4px;\n",
       "  padding: 4px 4px;\n",
       "  border: solid 0px black;\n",
       "  line-height: 1em;\n",
       "\n",
       "  /* Position the tooltip */\n",
       "  position: absolute;\n",
       "  z-index: 1;\n",
       "}\n",
       "\n",
       ".tooltip:hover .tooltiptext {\n",
       "  visibility: visible;\n",
       "}\n",
       "</style>"
      ],
      "text/plain": [
       "<IPython.core.display.HTML object>"
      ]
     },
     "metadata": {},
     "output_type": "display_data"
    },
    {
     "data": {
      "text/plain": [
       "(34874, 25000)"
      ]
     },
     "execution_count": 24,
     "metadata": {},
     "output_type": "execute_result"
    }
   ],
   "source": [
    "out_data_shape"
   ]
  },
  {
   "cell_type": "code",
   "execution_count": 40,
   "metadata": {},
   "outputs": [
    {
     "data": {
      "text/plain": [
       "\u001b[0;31mType:\u001b[0m        tuple\n",
       "\u001b[0;31mString form:\u001b[0m (slice(0, 512, None), slice(0, 512, None))\n",
       "\u001b[0;31mLength:\u001b[0m      2\n",
       "\u001b[0;31mDocstring:\u001b[0m  \n",
       "Built-in immutable sequence.\n",
       "\n",
       "If no argument is given, the constructor returns an empty tuple.\n",
       "If iterable is specified the tuple is initialized from iterable's items.\n",
       "\n",
       "If the argument is a tuple, the return value is the same object.\n"
      ]
     },
     "metadata": {},
     "output_type": "display_data"
    },
    {
     "data": {
      "text/html": [
       "<style>\n",
       ".tooltip {\n",
       "  position: relative;\n",
       "  display: inline-block;\n",
       "}\n",
       "\n",
       ".tooltip .tooltiptext {\n",
       "  visibility: hidden;\n",
       "  width: max-content;\n",
       "  max-width: 280px;\n",
       "  background-color: #00bcd4;\n",
       "  text-align: left;\n",
       "  color: white;\n",
       "  border-radius: 4px;\n",
       "  padding: 4px 4px;\n",
       "  border: solid 0px black;\n",
       "  line-height: 1em;\n",
       "\n",
       "  /* Position the tooltip */\n",
       "  position: absolute;\n",
       "  z-index: 1;\n",
       "}\n",
       "\n",
       ".tooltip:hover .tooltiptext {\n",
       "  visibility: visible;\n",
       "}\n",
       "</style>"
      ],
      "text/plain": [
       "<IPython.core.display.HTML object>"
      ]
     },
     "metadata": {},
     "output_type": "display_data"
    }
   ],
   "source": [
    "slice??"
   ]
  },
  {
   "cell_type": "code",
   "execution_count": 134,
   "metadata": {},
   "outputs": [
    {
     "data": {
      "text/html": [
       "<style>\n",
       ".tooltip {\n",
       "  position: relative;\n",
       "  display: inline-block;\n",
       "}\n",
       "\n",
       ".tooltip .tooltiptext {\n",
       "  visibility: hidden;\n",
       "  width: max-content;\n",
       "  max-width: 280px;\n",
       "  background-color: #00bcd4;\n",
       "  text-align: left;\n",
       "  color: white;\n",
       "  border-radius: 4px;\n",
       "  padding: 4px 4px;\n",
       "  border: solid 0px black;\n",
       "  line-height: 1em;\n",
       "\n",
       "  /* Position the tooltip */\n",
       "  position: absolute;\n",
       "  z-index: 1;\n",
       "}\n",
       "\n",
       ".tooltip:hover .tooltiptext {\n",
       "  visibility: visible;\n",
       "}\n",
       "</style>"
      ],
      "text/plain": [
       "<IPython.core.display.HTML object>"
      ]
     },
     "metadata": {},
     "output_type": "display_data"
    }
   ],
   "source": [
    "starts = []\n",
    "for (c, o, s) in zip((cy, cx), input_shape, shape):\n",
    "    start=int((c*scale - o/2).clip(0, s))\n",
    "    stop =int((c*scale + o/2).clip(max=s))\n",
    "    starts.append(start)\n",
    "\n",
    "starts.extend(list(input_shape))"
   ]
  },
  {
   "cell_type": "code",
   "execution_count": 135,
   "metadata": {},
   "outputs": [
    {
     "data": {
      "text/html": [
       "<style>\n",
       ".tooltip {\n",
       "  position: relative;\n",
       "  display: inline-block;\n",
       "}\n",
       "\n",
       ".tooltip .tooltiptext {\n",
       "  visibility: hidden;\n",
       "  width: max-content;\n",
       "  max-width: 280px;\n",
       "  background-color: #00bcd4;\n",
       "  text-align: left;\n",
       "  color: white;\n",
       "  border-radius: 4px;\n",
       "  padding: 4px 4px;\n",
       "  border: solid 0px black;\n",
       "  line-height: 1em;\n",
       "\n",
       "  /* Position the tooltip */\n",
       "  position: absolute;\n",
       "  z-index: 1;\n",
       "}\n",
       "\n",
       ".tooltip:hover .tooltiptext {\n",
       "  visibility: visible;\n",
       "}\n",
       "</style>"
      ],
      "text/plain": [
       "<IPython.core.display.HTML object>"
      ]
     },
     "metadata": {},
     "output_type": "display_data"
    },
    {
     "data": {
      "text/plain": [
       "[34362, 24488, 512, 512]"
      ]
     },
     "execution_count": 135,
     "metadata": {},
     "output_type": "execute_result"
    }
   ],
   "source": [
    "starts"
   ]
  },
  {
   "cell_type": "code",
   "execution_count": 132,
   "metadata": {},
   "outputs": [
    {
     "data": {
      "text/html": [
       "<style>\n",
       ".tooltip {\n",
       "  position: relative;\n",
       "  display: inline-block;\n",
       "}\n",
       "\n",
       ".tooltip .tooltiptext {\n",
       "  visibility: hidden;\n",
       "  width: max-content;\n",
       "  max-width: 280px;\n",
       "  background-color: #00bcd4;\n",
       "  text-align: left;\n",
       "  color: white;\n",
       "  border-radius: 4px;\n",
       "  padding: 4px 4px;\n",
       "  border: solid 0px black;\n",
       "  line-height: 1em;\n",
       "\n",
       "  /* Position the tooltip */\n",
       "  position: absolute;\n",
       "  z-index: 1;\n",
       "}\n",
       "\n",
       ".tooltip:hover .tooltiptext {\n",
       "  visibility: visible;\n",
       "}\n",
       "</style>"
      ],
      "text/plain": [
       "<IPython.core.display.HTML object>"
      ]
     },
     "metadata": {},
     "output_type": "display_data"
    },
    {
     "data": {
      "text/plain": [
       "[34362, (512, 512), 24488, (512, 512)]"
      ]
     },
     "execution_count": 132,
     "metadata": {},
     "output_type": "execute_result"
    }
   ],
   "source": [
    "starts"
   ]
  },
  {
   "cell_type": "code",
   "execution_count": 94,
   "metadata": {},
   "outputs": [
    {
     "data": {
      "text/html": [
       "<style>\n",
       ".tooltip {\n",
       "  position: relative;\n",
       "  display: inline-block;\n",
       "}\n",
       "\n",
       ".tooltip .tooltiptext {\n",
       "  visibility: hidden;\n",
       "  width: max-content;\n",
       "  max-width: 280px;\n",
       "  background-color: #00bcd4;\n",
       "  text-align: left;\n",
       "  color: white;\n",
       "  border-radius: 4px;\n",
       "  padding: 4px 4px;\n",
       "  border: solid 0px black;\n",
       "  line-height: 1em;\n",
       "\n",
       "  /* Position the tooltip */\n",
       "  position: absolute;\n",
       "  z-index: 1;\n",
       "}\n",
       "\n",
       ".tooltip:hover .tooltiptext {\n",
       "  visibility: visible;\n",
       "}\n",
       "</style>"
      ],
      "text/plain": [
       "<IPython.core.display.HTML object>"
      ]
     },
     "metadata": {},
     "output_type": "display_data"
    }
   ],
   "source": [
    "starts.append(stops)"
   ]
  },
  {
   "cell_type": "code",
   "execution_count": 111,
   "metadata": {},
   "outputs": [
    {
     "data": {
      "text/html": [
       "<style>\n",
       ".tooltip {\n",
       "  position: relative;\n",
       "  display: inline-block;\n",
       "}\n",
       "\n",
       ".tooltip .tooltiptext {\n",
       "  visibility: hidden;\n",
       "  width: max-content;\n",
       "  max-width: 280px;\n",
       "  background-color: #00bcd4;\n",
       "  text-align: left;\n",
       "  color: white;\n",
       "  border-radius: 4px;\n",
       "  padding: 4px 4px;\n",
       "  border: solid 0px black;\n",
       "  line-height: 1em;\n",
       "\n",
       "  /* Position the tooltip */\n",
       "  position: absolute;\n",
       "  z-index: 1;\n",
       "}\n",
       "\n",
       ".tooltip:hover .tooltiptext {\n",
       "  visibility: visible;\n",
       "}\n",
       "</style>"
      ],
      "text/plain": [
       "<IPython.core.display.HTML object>"
      ]
     },
     "metadata": {},
     "output_type": "display_data"
    }
   ],
   "source": [
    "slice0 = starts.extend(stops)"
   ]
  },
  {
   "cell_type": "code",
   "execution_count": 116,
   "metadata": {},
   "outputs": [
    {
     "data": {
      "text/html": [
       "<style>\n",
       ".tooltip {\n",
       "  position: relative;\n",
       "  display: inline-block;\n",
       "}\n",
       "\n",
       ".tooltip .tooltiptext {\n",
       "  visibility: hidden;\n",
       "  width: max-content;\n",
       "  max-width: 280px;\n",
       "  background-color: #00bcd4;\n",
       "  text-align: left;\n",
       "  color: white;\n",
       "  border-radius: 4px;\n",
       "  padding: 4px 4px;\n",
       "  border: solid 0px black;\n",
       "  line-height: 1em;\n",
       "\n",
       "  /* Position the tooltip */\n",
       "  position: absolute;\n",
       "  z-index: 1;\n",
       "}\n",
       "\n",
       ".tooltip:hover .tooltiptext {\n",
       "  visibility: visible;\n",
       "}\n",
       "</style>"
      ],
      "text/plain": [
       "<IPython.core.display.HTML object>"
      ]
     },
     "metadata": {},
     "output_type": "display_data"
    }
   ],
   "source": [
    "starts.extend(stops)"
   ]
  },
  {
   "cell_type": "code",
   "execution_count": 118,
   "metadata": {},
   "outputs": [
    {
     "data": {
      "text/html": [
       "<style>\n",
       ".tooltip {\n",
       "  position: relative;\n",
       "  display: inline-block;\n",
       "}\n",
       "\n",
       ".tooltip .tooltiptext {\n",
       "  visibility: hidden;\n",
       "  width: max-content;\n",
       "  max-width: 280px;\n",
       "  background-color: #00bcd4;\n",
       "  text-align: left;\n",
       "  color: white;\n",
       "  border-radius: 4px;\n",
       "  padding: 4px 4px;\n",
       "  border: solid 0px black;\n",
       "  line-height: 1em;\n",
       "\n",
       "  /* Position the tooltip */\n",
       "  position: absolute;\n",
       "  z-index: 1;\n",
       "}\n",
       "\n",
       ".tooltip:hover .tooltiptext {\n",
       "  visibility: visible;\n",
       "}\n",
       "</style>"
      ],
      "text/plain": [
       "<IPython.core.display.HTML object>"
      ]
     },
     "metadata": {},
     "output_type": "display_data"
    },
    {
     "data": {
      "text/plain": [
       "(34362, 24488, 34874, 25000)"
      ]
     },
     "execution_count": 118,
     "metadata": {},
     "output_type": "execute_result"
    }
   ],
   "source": [
    "tuple(starts)"
   ]
  },
  {
   "cell_type": "code",
   "execution_count": 104,
   "metadata": {},
   "outputs": [
    {
     "data": {
      "text/html": [
       "<style>\n",
       ".tooltip {\n",
       "  position: relative;\n",
       "  display: inline-block;\n",
       "}\n",
       "\n",
       ".tooltip .tooltiptext {\n",
       "  visibility: hidden;\n",
       "  width: max-content;\n",
       "  max-width: 280px;\n",
       "  background-color: #00bcd4;\n",
       "  text-align: left;\n",
       "  color: white;\n",
       "  border-radius: 4px;\n",
       "  padding: 4px 4px;\n",
       "  border: solid 0px black;\n",
       "  line-height: 1em;\n",
       "\n",
       "  /* Position the tooltip */\n",
       "  position: absolute;\n",
       "  z-index: 1;\n",
       "}\n",
       "\n",
       ".tooltip:hover .tooltiptext {\n",
       "  visibility: visible;\n",
       "}\n",
       "</style>"
      ],
      "text/plain": [
       "<IPython.core.display.HTML object>"
      ]
     },
     "metadata": {},
     "output_type": "display_data"
    },
    {
     "data": {
      "text/plain": [
       "(24488, 25000)"
      ]
     },
     "execution_count": 104,
     "metadata": {},
     "output_type": "execute_result"
    }
   ],
   "source": [
    "tuple(slice0)"
   ]
  },
  {
   "cell_type": "code",
   "execution_count": 130,
   "metadata": {},
   "outputs": [
    {
     "data": {
      "text/html": [
       "<style>\n",
       ".tooltip {\n",
       "  position: relative;\n",
       "  display: inline-block;\n",
       "}\n",
       "\n",
       ".tooltip .tooltiptext {\n",
       "  visibility: hidden;\n",
       "  width: max-content;\n",
       "  max-width: 280px;\n",
       "  background-color: #00bcd4;\n",
       "  text-align: left;\n",
       "  color: white;\n",
       "  border-radius: 4px;\n",
       "  padding: 4px 4px;\n",
       "  border: solid 0px black;\n",
       "  line-height: 1em;\n",
       "\n",
       "  /* Position the tooltip */\n",
       "  position: absolute;\n",
       "  z-index: 1;\n",
       "}\n",
       "\n",
       ".tooltip:hover .tooltiptext {\n",
       "  visibility: visible;\n",
       "}\n",
       "</style>"
      ],
      "text/plain": [
       "<IPython.core.display.HTML object>"
      ]
     },
     "metadata": {},
     "output_type": "display_data"
    },
    {
     "data": {
      "text/plain": [
       "([34362, 24488], 0)"
      ]
     },
     "execution_count": 130,
     "metadata": {},
     "output_type": "execute_result"
    }
   ],
   "source": [
    "starts.append(512)"
   ]
  },
  {
   "cell_type": "code",
   "execution_count": 136,
   "metadata": {},
   "outputs": [
    {
     "data": {
      "text/html": [
       "<style>\n",
       ".tooltip {\n",
       "  position: relative;\n",
       "  display: inline-block;\n",
       "}\n",
       "\n",
       ".tooltip .tooltiptext {\n",
       "  visibility: hidden;\n",
       "  width: max-content;\n",
       "  max-width: 280px;\n",
       "  background-color: #00bcd4;\n",
       "  text-align: left;\n",
       "  color: white;\n",
       "  border-radius: 4px;\n",
       "  padding: 4px 4px;\n",
       "  border: solid 0px black;\n",
       "  line-height: 1em;\n",
       "\n",
       "  /* Position the tooltip */\n",
       "  position: absolute;\n",
       "  z-index: 1;\n",
       "}\n",
       "\n",
       ".tooltip:hover .tooltiptext {\n",
       "  visibility: visible;\n",
       "}\n",
       "</style>"
      ],
      "text/plain": [
       "<IPython.core.display.HTML object>"
      ]
     },
     "metadata": {},
     "output_type": "display_data"
    },
    {
     "data": {
      "text/plain": [
       "(512, 512, 3)"
      ]
     },
     "execution_count": 136,
     "metadata": {},
     "output_type": "execute_result"
    }
   ],
   "source": [
    "img = data.read_block(starts)\n",
    "img.shape"
   ]
  },
  {
   "cell_type": "code",
   "execution_count": 126,
   "metadata": {},
   "outputs": [
    {
     "data": {
      "text/html": [
       "<style>\n",
       ".tooltip {\n",
       "  position: relative;\n",
       "  display: inline-block;\n",
       "}\n",
       "\n",
       ".tooltip .tooltiptext {\n",
       "  visibility: hidden;\n",
       "  width: max-content;\n",
       "  max-width: 280px;\n",
       "  background-color: #00bcd4;\n",
       "  text-align: left;\n",
       "  color: white;\n",
       "  border-radius: 4px;\n",
       "  padding: 4px 4px;\n",
       "  border: solid 0px black;\n",
       "  line-height: 1em;\n",
       "\n",
       "  /* Position the tooltip */\n",
       "  position: absolute;\n",
       "  z-index: 1;\n",
       "}\n",
       "\n",
       ".tooltip:hover .tooltiptext {\n",
       "  visibility: visible;\n",
       "}\n",
       "</style>"
      ],
      "text/plain": [
       "<IPython.core.display.HTML object>"
      ]
     },
     "metadata": {},
     "output_type": "display_data"
    },
    {
     "data": {
      "text/plain": [
       "\u001b[0;31mSignature:\u001b[0m\n",
       "\u001b[0mdata\u001b[0m\u001b[0;34m.\u001b[0m\u001b[0mread_block\u001b[0m\u001b[0;34m(\u001b[0m\u001b[0;34m\u001b[0m\n",
       "\u001b[0;34m\u001b[0m    \u001b[0mrect\u001b[0m\u001b[0;34m=\u001b[0m\u001b[0;34m(\u001b[0m\u001b[0;36m0\u001b[0m\u001b[0;34m,\u001b[0m \u001b[0;36m0\u001b[0m\u001b[0;34m,\u001b[0m \u001b[0;36m0\u001b[0m\u001b[0;34m,\u001b[0m \u001b[0;36m0\u001b[0m\u001b[0;34m)\u001b[0m\u001b[0;34m,\u001b[0m\u001b[0;34m\u001b[0m\n",
       "\u001b[0;34m\u001b[0m    \u001b[0msize\u001b[0m\u001b[0;34m=\u001b[0m\u001b[0;34m(\u001b[0m\u001b[0;36m0\u001b[0m\u001b[0;34m,\u001b[0m \u001b[0;36m0\u001b[0m\u001b[0;34m)\u001b[0m\u001b[0;34m,\u001b[0m\u001b[0;34m\u001b[0m\n",
       "\u001b[0;34m\u001b[0m    \u001b[0mchannel_indices\u001b[0m\u001b[0;34m=\u001b[0m\u001b[0;34m[\u001b[0m\u001b[0;34m]\u001b[0m\u001b[0;34m,\u001b[0m\u001b[0;34m\u001b[0m\n",
       "\u001b[0;34m\u001b[0m    \u001b[0mslices\u001b[0m\u001b[0;34m=\u001b[0m\u001b[0;34m(\u001b[0m\u001b[0;36m0\u001b[0m\u001b[0;34m,\u001b[0m \u001b[0;36m1\u001b[0m\u001b[0;34m)\u001b[0m\u001b[0;34m,\u001b[0m\u001b[0;34m\u001b[0m\n",
       "\u001b[0;34m\u001b[0m    \u001b[0mframes\u001b[0m\u001b[0;34m=\u001b[0m\u001b[0;34m(\u001b[0m\u001b[0;36m0\u001b[0m\u001b[0;34m,\u001b[0m \u001b[0;36m1\u001b[0m\u001b[0;34m)\u001b[0m\u001b[0;34m,\u001b[0m\u001b[0;34m\u001b[0m\n",
       "\u001b[0;34m\u001b[0m\u001b[0;34m)\u001b[0m\u001b[0;34m\u001b[0m\u001b[0;34m\u001b[0m\u001b[0m\n",
       "\u001b[0;31mSource:\u001b[0m   \n",
       "    \u001b[0;32mdef\u001b[0m \u001b[0mread_block\u001b[0m\u001b[0;34m(\u001b[0m\u001b[0mself\u001b[0m\u001b[0;34m,\u001b[0m \u001b[0mrect\u001b[0m\u001b[0;34m=\u001b[0m\u001b[0;34m(\u001b[0m\u001b[0;36m0\u001b[0m\u001b[0;34m,\u001b[0m\u001b[0;36m0\u001b[0m\u001b[0;34m,\u001b[0m\u001b[0;36m0\u001b[0m\u001b[0;34m,\u001b[0m\u001b[0;36m0\u001b[0m\u001b[0;34m)\u001b[0m\u001b[0;34m,\u001b[0m \u001b[0msize\u001b[0m\u001b[0;34m=\u001b[0m\u001b[0;34m(\u001b[0m\u001b[0;36m0\u001b[0m\u001b[0;34m,\u001b[0m\u001b[0;36m0\u001b[0m\u001b[0;34m)\u001b[0m\u001b[0;34m,\u001b[0m \u001b[0mchannel_indices\u001b[0m\u001b[0;34m=\u001b[0m\u001b[0;34m[\u001b[0m\u001b[0;34m]\u001b[0m\u001b[0;34m,\u001b[0m \u001b[0mslices\u001b[0m\u001b[0;34m=\u001b[0m\u001b[0;34m(\u001b[0m\u001b[0;36m0\u001b[0m\u001b[0;34m,\u001b[0m\u001b[0;36m1\u001b[0m\u001b[0;34m)\u001b[0m\u001b[0;34m,\u001b[0m \u001b[0mframes\u001b[0m\u001b[0;34m=\u001b[0m\u001b[0;34m(\u001b[0m\u001b[0;36m0\u001b[0m\u001b[0;34m,\u001b[0m\u001b[0;36m1\u001b[0m\u001b[0;34m)\u001b[0m\u001b[0;34m)\u001b[0m\u001b[0;34m:\u001b[0m\u001b[0;34m\u001b[0m\n",
       "\u001b[0;34m\u001b[0m        \u001b[0;34m'''Reads rectangular block of the scene with optional rescaling.\u001b[0m\n",
       "\u001b[0;34m\u001b[0m\n",
       "\u001b[0;34m        Args:\u001b[0m\n",
       "\u001b[0;34m            rect: block rectangle, defined as a tuple (x, y, widht, height), where x,y - pixel coordinates of the  top left corner of the block relatively to the scene top left corner, width, height - block width and height\u001b[0m\n",
       "\u001b[0;34m            size: size of the block after rescaling. (0,0) - no scaling.\u001b[0m\n",
       "\u001b[0;34m            channel_indices: array of channel indices to be retrieved. [] - all channels.\u001b[0m\n",
       "\u001b[0;34m            slices: range of z slices (first, last+1) to be retrieved. (0,3) for 0,1,2 slices. (0,0) for the first slice only.\u001b[0m\n",
       "\u001b[0;34m            frames: range of time frames (first, last+1) to be retrieved.\u001b[0m\n",
       "\u001b[0;34m\u001b[0m\n",
       "\u001b[0;34m        Returns:\u001b[0m\n",
       "\u001b[0;34m            numpy array with pixel values\u001b[0m\n",
       "\u001b[0;34m        '''\u001b[0m\u001b[0;34m\u001b[0m\n",
       "\u001b[0;34m\u001b[0m        \u001b[0;32mreturn\u001b[0m \u001b[0mself\u001b[0m\u001b[0;34m.\u001b[0m\u001b[0mscene\u001b[0m\u001b[0;34m.\u001b[0m\u001b[0mread_block\u001b[0m\u001b[0;34m(\u001b[0m\u001b[0mrect\u001b[0m\u001b[0;34m,\u001b[0m \u001b[0msize\u001b[0m\u001b[0;34m,\u001b[0m \u001b[0mchannel_indices\u001b[0m\u001b[0;34m,\u001b[0m \u001b[0mslices\u001b[0m\u001b[0;34m,\u001b[0m \u001b[0mframes\u001b[0m\u001b[0;34m)\u001b[0m\u001b[0;34m\u001b[0m\u001b[0;34m\u001b[0m\u001b[0m\n",
       "\u001b[0;31mFile:\u001b[0m      /usr/local/lib/python3.9/dist-packages/slideio/py_slideio.py\n",
       "\u001b[0;31mType:\u001b[0m      method\n"
      ]
     },
     "metadata": {},
     "output_type": "display_data"
    }
   ],
   "source": [
    "data.read_block"
   ]
  },
  {
   "cell_type": "code",
   "execution_count": 123,
   "metadata": {},
   "outputs": [
    {
     "data": {
      "text/html": [
       "<style>\n",
       ".tooltip {\n",
       "  position: relative;\n",
       "  display: inline-block;\n",
       "}\n",
       "\n",
       ".tooltip .tooltiptext {\n",
       "  visibility: hidden;\n",
       "  width: max-content;\n",
       "  max-width: 280px;\n",
       "  background-color: #00bcd4;\n",
       "  text-align: left;\n",
       "  color: white;\n",
       "  border-radius: 4px;\n",
       "  padding: 4px 4px;\n",
       "  border: solid 0px black;\n",
       "  line-height: 1em;\n",
       "\n",
       "  /* Position the tooltip */\n",
       "  position: absolute;\n",
       "  z-index: 1;\n",
       "}\n",
       "\n",
       ".tooltip:hover .tooltiptext {\n",
       "  visibility: visible;\n",
       "}\n",
       "</style>"
      ],
      "text/plain": [
       "<IPython.core.display.HTML object>"
      ]
     },
     "metadata": {},
     "output_type": "display_data"
    },
    {
     "data": {
      "text/plain": [
       "(25000, 24488, 3)"
      ]
     },
     "execution_count": 123,
     "metadata": {},
     "output_type": "execute_result"
    }
   ],
   "source": [
    "data.read_block(tuple(starts)).shape"
   ]
  },
  {
   "cell_type": "code",
   "execution_count": 83,
   "metadata": {},
   "outputs": [
    {
     "data": {
      "text/html": [
       "<style>\n",
       ".tooltip {\n",
       "  position: relative;\n",
       "  display: inline-block;\n",
       "}\n",
       "\n",
       ".tooltip .tooltiptext {\n",
       "  visibility: hidden;\n",
       "  width: max-content;\n",
       "  max-width: 280px;\n",
       "  background-color: #00bcd4;\n",
       "  text-align: left;\n",
       "  color: white;\n",
       "  border-radius: 4px;\n",
       "  padding: 4px 4px;\n",
       "  border: solid 0px black;\n",
       "  line-height: 1em;\n",
       "\n",
       "  /* Position the tooltip */\n",
       "  position: absolute;\n",
       "  z-index: 1;\n",
       "}\n",
       "\n",
       ".tooltip:hover .tooltiptext {\n",
       "  visibility: visible;\n",
       "}\n",
       "</style>"
      ],
      "text/plain": [
       "<IPython.core.display.HTML object>"
      ]
     },
     "metadata": {},
     "output_type": "display_data"
    },
    {
     "data": {
      "text/plain": [
       "(34362, 24488)"
      ]
     },
     "execution_count": 83,
     "metadata": {},
     "output_type": "execute_result"
    }
   ],
   "source": [
    "tuple(starts)"
   ]
  },
  {
   "cell_type": "code",
   "execution_count": 88,
   "metadata": {},
   "outputs": [
    {
     "data": {
      "text/html": [
       "<style>\n",
       ".tooltip {\n",
       "  position: relative;\n",
       "  display: inline-block;\n",
       "}\n",
       "\n",
       ".tooltip .tooltiptext {\n",
       "  visibility: hidden;\n",
       "  width: max-content;\n",
       "  max-width: 280px;\n",
       "  background-color: #00bcd4;\n",
       "  text-align: left;\n",
       "  color: white;\n",
       "  border-radius: 4px;\n",
       "  padding: 4px 4px;\n",
       "  border: solid 0px black;\n",
       "  line-height: 1em;\n",
       "\n",
       "  /* Position the tooltip */\n",
       "  position: absolute;\n",
       "  z-index: 1;\n",
       "}\n",
       "\n",
       ".tooltip:hover .tooltiptext {\n",
       "  visibility: visible;\n",
       "}\n",
       "</style>"
      ],
      "text/plain": [
       "<IPython.core.display.HTML object>"
      ]
     },
     "metadata": {},
     "output_type": "display_data"
    },
    {
     "data": {
      "text/plain": [
       "(34874, 25000)"
      ]
     },
     "execution_count": 88,
     "metadata": {},
     "output_type": "execute_result"
    }
   ],
   "source": [
    "tuple(stops)"
   ]
  },
  {
   "cell_type": "code",
   "execution_count": 86,
   "metadata": {},
   "outputs": [
    {
     "data": {
      "text/html": [
       "<style>\n",
       ".tooltip {\n",
       "  position: relative;\n",
       "  display: inline-block;\n",
       "}\n",
       "\n",
       ".tooltip .tooltiptext {\n",
       "  visibility: hidden;\n",
       "  width: max-content;\n",
       "  max-width: 280px;\n",
       "  background-color: #00bcd4;\n",
       "  text-align: left;\n",
       "  color: white;\n",
       "  border-radius: 4px;\n",
       "  padding: 4px 4px;\n",
       "  border: solid 0px black;\n",
       "  line-height: 1em;\n",
       "\n",
       "  /* Position the tooltip */\n",
       "  position: absolute;\n",
       "  z-index: 1;\n",
       "}\n",
       "\n",
       ".tooltip:hover .tooltiptext {\n",
       "  visibility: visible;\n",
       "}\n",
       "</style>"
      ],
      "text/plain": [
       "<IPython.core.display.HTML object>"
      ]
     },
     "metadata": {},
     "output_type": "display_data"
    },
    {
     "data": {
      "text/plain": [
       "([[...], [...]], [[...], [...]])"
      ]
     },
     "execution_count": 86,
     "metadata": {},
     "output_type": "execute_result"
    }
   ],
   "source": [
    "stops"
   ]
  },
  {
   "cell_type": "code",
   "execution_count": 67,
   "metadata": {},
   "outputs": [
    {
     "data": {
      "text/html": [
       "<style>\n",
       ".tooltip {\n",
       "  position: relative;\n",
       "  display: inline-block;\n",
       "}\n",
       "\n",
       ".tooltip .tooltiptext {\n",
       "  visibility: hidden;\n",
       "  width: max-content;\n",
       "  max-width: 280px;\n",
       "  background-color: #00bcd4;\n",
       "  text-align: left;\n",
       "  color: white;\n",
       "  border-radius: 4px;\n",
       "  padding: 4px 4px;\n",
       "  border: solid 0px black;\n",
       "  line-height: 1em;\n",
       "\n",
       "  /* Position the tooltip */\n",
       "  position: absolute;\n",
       "  z-index: 1;\n",
       "}\n",
       "\n",
       ".tooltip:hover .tooltiptext {\n",
       "  visibility: visible;\n",
       "}\n",
       "</style>"
      ],
      "text/plain": [
       "<IPython.core.display.HTML object>"
      ]
     },
     "metadata": {},
     "output_type": "display_data"
    }
   ],
   "source": [
    "col_start = (c*scale - o/2).clip(0, s)"
   ]
  },
  {
   "cell_type": "code",
   "execution_count": 66,
   "metadata": {},
   "outputs": [
    {
     "data": {
      "text/html": [
       "<style>\n",
       ".tooltip {\n",
       "  position: relative;\n",
       "  display: inline-block;\n",
       "}\n",
       "\n",
       ".tooltip .tooltiptext {\n",
       "  visibility: hidden;\n",
       "  width: max-content;\n",
       "  max-width: 280px;\n",
       "  background-color: #00bcd4;\n",
       "  text-align: left;\n",
       "  color: white;\n",
       "  border-radius: 4px;\n",
       "  padding: 4px 4px;\n",
       "  border: solid 0px black;\n",
       "  line-height: 1em;\n",
       "\n",
       "  /* Position the tooltip */\n",
       "  position: absolute;\n",
       "  z-index: 1;\n",
       "}\n",
       "\n",
       ".tooltip:hover .tooltiptext {\n",
       "  visibility: visible;\n",
       "}\n",
       "</style>"
      ],
      "text/plain": [
       "<IPython.core.display.HTML object>"
      ]
     },
     "metadata": {},
     "output_type": "display_data"
    }
   ],
   "source": [
    "col_stop = (c*scale + o/2).clip(max=s)"
   ]
  },
  {
   "cell_type": "code",
   "execution_count": 78,
   "metadata": {},
   "outputs": [
    {
     "data": {
      "text/html": [
       "<style>\n",
       ".tooltip {\n",
       "  position: relative;\n",
       "  display: inline-block;\n",
       "}\n",
       "\n",
       ".tooltip .tooltiptext {\n",
       "  visibility: hidden;\n",
       "  width: max-content;\n",
       "  max-width: 280px;\n",
       "  background-color: #00bcd4;\n",
       "  text-align: left;\n",
       "  color: white;\n",
       "  border-radius: 4px;\n",
       "  padding: 4px 4px;\n",
       "  border: solid 0px black;\n",
       "  line-height: 1em;\n",
       "\n",
       "  /* Position the tooltip */\n",
       "  position: absolute;\n",
       "  z-index: 1;\n",
       "}\n",
       "\n",
       ".tooltip:hover .tooltiptext {\n",
       "  visibility: visible;\n",
       "}\n",
       "</style>"
      ],
      "text/plain": [
       "<IPython.core.display.HTML object>"
      ]
     },
     "metadata": {},
     "output_type": "display_data"
    }
   ],
   "source": [
    "a = (col_start, col_stop),(col_start, col_stop)"
   ]
  },
  {
   "cell_type": "code",
   "execution_count": 79,
   "metadata": {},
   "outputs": [
    {
     "data": {
      "text/html": [
       "<style>\n",
       ".tooltip {\n",
       "  position: relative;\n",
       "  display: inline-block;\n",
       "}\n",
       "\n",
       ".tooltip .tooltiptext {\n",
       "  visibility: hidden;\n",
       "  width: max-content;\n",
       "  max-width: 280px;\n",
       "  background-color: #00bcd4;\n",
       "  text-align: left;\n",
       "  color: white;\n",
       "  border-radius: 4px;\n",
       "  padding: 4px 4px;\n",
       "  border: solid 0px black;\n",
       "  line-height: 1em;\n",
       "\n",
       "  /* Position the tooltip */\n",
       "  position: absolute;\n",
       "  z-index: 1;\n",
       "}\n",
       "\n",
       ".tooltip:hover .tooltiptext {\n",
       "  visibility: visible;\n",
       "}\n",
       "</style>"
      ],
      "text/plain": [
       "<IPython.core.display.HTML object>"
      ]
     },
     "metadata": {},
     "output_type": "display_data"
    },
    {
     "data": {
      "text/plain": [
       "((24488.0, 25000.0), (24488.0, 25000.0))"
      ]
     },
     "execution_count": 79,
     "metadata": {},
     "output_type": "execute_result"
    }
   ],
   "source": [
    "a"
   ]
  },
  {
   "cell_type": "code",
   "execution_count": 46,
   "metadata": {},
   "outputs": [
    {
     "data": {
      "text/html": [
       "<style>\n",
       ".tooltip {\n",
       "  position: relative;\n",
       "  display: inline-block;\n",
       "}\n",
       "\n",
       ".tooltip .tooltiptext {\n",
       "  visibility: hidden;\n",
       "  width: max-content;\n",
       "  max-width: 280px;\n",
       "  background-color: #00bcd4;\n",
       "  text-align: left;\n",
       "  color: white;\n",
       "  border-radius: 4px;\n",
       "  padding: 4px 4px;\n",
       "  border: solid 0px black;\n",
       "  line-height: 1em;\n",
       "\n",
       "  /* Position the tooltip */\n",
       "  position: absolute;\n",
       "  z-index: 1;\n",
       "}\n",
       "\n",
       ".tooltip:hover .tooltiptext {\n",
       "  visibility: visible;\n",
       "}\n",
       "</style>"
      ],
      "text/plain": [
       "<IPython.core.display.HTML object>"
      ]
     },
     "metadata": {},
     "output_type": "display_data"
    }
   ],
   "source": [
    "slices=[]\n",
    "out_slices = []\n",
    "for cx in center_points[1]:\n",
    "    for cy in center_points[0]:\n",
    "        # Calculate output slices for whole image\n",
    "        for (c, o, s) in zip((cy, cx), input_shape, shape):\n",
    "            slice0 = int((c*scale - o/2).clip(0, s)), int((c*scale + o/2).clip(max=s)) \n",
    "            slices.append(slice0)\n",
    "        for (c, o, s) in zip((cy, cx), output_shape, out_data_shape):\n",
    "            out_slice = int((c - o/2).clip(0, s)), int((c + o/2).clip(max=s))\n",
    "                         \n",
    "            out_slices.append(out_slice)"
   ]
  },
  {
   "cell_type": "code",
   "execution_count": 50,
   "metadata": {},
   "outputs": [
    {
     "data": {
      "text/html": [
       "<style>\n",
       ".tooltip {\n",
       "  position: relative;\n",
       "  display: inline-block;\n",
       "}\n",
       "\n",
       ".tooltip .tooltiptext {\n",
       "  visibility: hidden;\n",
       "  width: max-content;\n",
       "  max-width: 280px;\n",
       "  background-color: #00bcd4;\n",
       "  text-align: left;\n",
       "  color: white;\n",
       "  border-radius: 4px;\n",
       "  padding: 4px 4px;\n",
       "  border: solid 0px black;\n",
       "  line-height: 1em;\n",
       "\n",
       "  /* Position the tooltip */\n",
       "  position: absolute;\n",
       "  z-index: 1;\n",
       "}\n",
       "\n",
       ".tooltip:hover .tooltiptext {\n",
       "  visibility: visible;\n",
       "}\n",
       "</style>"
      ],
      "text/plain": [
       "<IPython.core.display.HTML object>"
      ]
     },
     "metadata": {},
     "output_type": "display_data"
    }
   ],
   "source": [
    "f = 'external/GTEX-11P82-1126.svs'"
   ]
  },
  {
   "cell_type": "code",
   "execution_count": 51,
   "metadata": {},
   "outputs": [
    {
     "data": {
      "text/html": [
       "<style>\n",
       ".tooltip {\n",
       "  position: relative;\n",
       "  display: inline-block;\n",
       "}\n",
       "\n",
       ".tooltip .tooltiptext {\n",
       "  visibility: hidden;\n",
       "  width: max-content;\n",
       "  max-width: 280px;\n",
       "  background-color: #00bcd4;\n",
       "  text-align: left;\n",
       "  color: white;\n",
       "  border-radius: 4px;\n",
       "  padding: 4px 4px;\n",
       "  border: solid 0px black;\n",
       "  line-height: 1em;\n",
       "\n",
       "  /* Position the tooltip */\n",
       "  position: absolute;\n",
       "  z-index: 1;\n",
       "}\n",
       "\n",
       ".tooltip:hover .tooltiptext {\n",
       "  visibility: visible;\n",
       "}\n",
       "</style>"
      ],
      "text/plain": [
       "<IPython.core.display.HTML object>"
      ]
     },
     "metadata": {},
     "output_type": "display_data"
    }
   ],
   "source": [
    "stats = np.array([0.61561477, 0.5179343 , 0.64067212]), np.array([0.2915353 , 0.31549066, 0.28647661])"
   ]
  },
  {
   "cell_type": "code",
   "execution_count": 54,
   "metadata": {},
   "outputs": [
    {
     "data": {
      "text/html": [
       "<style>\n",
       ".tooltip {\n",
       "  position: relative;\n",
       "  display: inline-block;\n",
       "}\n",
       "\n",
       ".tooltip .tooltiptext {\n",
       "  visibility: hidden;\n",
       "  width: max-content;\n",
       "  max-width: 280px;\n",
       "  background-color: #00bcd4;\n",
       "  text-align: left;\n",
       "  color: white;\n",
       "  border-radius: 4px;\n",
       "  padding: 4px 4px;\n",
       "  border: solid 0px black;\n",
       "  line-height: 1em;\n",
       "\n",
       "  /* Position the tooltip */\n",
       "  position: absolute;\n",
       "  z-index: 1;\n",
       "}\n",
       "\n",
       ".tooltip:hover .tooltiptext {\n",
       "  visibility: visible;\n",
       "}\n",
       "</style>"
      ],
      "text/plain": [
       "<IPython.core.display.HTML object>"
      ]
     },
     "metadata": {},
     "output_type": "display_data"
    }
   ],
   "source": [
    "shape = (34874,25000)"
   ]
  },
  {
   "cell_type": "code",
   "execution_count": 57,
   "metadata": {},
   "outputs": [
    {
     "data": {
      "text/html": [
       "<style>\n",
       ".tooltip {\n",
       "  position: relative;\n",
       "  display: inline-block;\n",
       "}\n",
       "\n",
       ".tooltip .tooltiptext {\n",
       "  visibility: hidden;\n",
       "  width: max-content;\n",
       "  max-width: 280px;\n",
       "  background-color: #00bcd4;\n",
       "  text-align: left;\n",
       "  color: white;\n",
       "  border-radius: 4px;\n",
       "  padding: 4px 4px;\n",
       "  border: solid 0px black;\n",
       "  line-height: 1em;\n",
       "\n",
       "  /* Position the tooltip */\n",
       "  position: absolute;\n",
       "  z-index: 1;\n",
       "}\n",
       "\n",
       ".tooltip:hover .tooltiptext {\n",
       "  visibility: visible;\n",
       "}\n",
       "</style>"
      ],
      "text/plain": [
       "<IPython.core.display.HTML object>"
      ]
     },
     "metadata": {},
     "output_type": "display_data"
    },
    {
     "ename": "TypeError",
     "evalue": "'tuple' object is not callable",
     "output_type": "error",
     "traceback": [
      "\u001b[0;31m---------------------------------------------------------------------------\u001b[0m",
      "\u001b[0;31mTypeError\u001b[0m                                 Traceback (most recent call last)",
      "Input \u001b[0;32mIn [57]\u001b[0m, in \u001b[0;36m<cell line: 1>\u001b[0;34m()\u001b[0m\n\u001b[0;32m----> 1\u001b[0m ds \u001b[38;5;241m=\u001b[39m \u001b[43mHubmapDataset\u001b[49m\u001b[43m(\u001b[49m\u001b[43mf\u001b[49m\u001b[43m,\u001b[49m\u001b[43m \u001b[49m\u001b[43mstats\u001b[49m\u001b[43m,\u001b[49m\u001b[43m \u001b[49m\u001b[43mshape\u001b[49m\u001b[43m \u001b[49m\u001b[43m)\u001b[49m\n",
      "Input \u001b[0;32mIn [56]\u001b[0m, in \u001b[0;36mHubmapDataset.__init__\u001b[0;34m(self, file, stats, shape, scale, shift, output_shape, s_th)\u001b[0m\n\u001b[1;32m     30\u001b[0m \u001b[38;5;28;01mfor\u001b[39;00m cx \u001b[38;5;129;01min\u001b[39;00m center_points[\u001b[38;5;241m1\u001b[39m]:\n\u001b[1;32m     31\u001b[0m     \u001b[38;5;28;01mfor\u001b[39;00m cy \u001b[38;5;129;01min\u001b[39;00m center_points[\u001b[38;5;241m0\u001b[39m]:\n\u001b[1;32m     32\u001b[0m         \u001b[38;5;66;03m# Calculate output slices for whole image\u001b[39;00m\n\u001b[0;32m---> 33\u001b[0m         slices \u001b[38;5;241m=\u001b[39m \u001b[38;5;28;43mtuple\u001b[39;49m\u001b[43m(\u001b[49m\u001b[38;5;28;43mslice\u001b[39;49m\u001b[43m(\u001b[49m\u001b[38;5;28;43mint\u001b[39;49m\u001b[43m(\u001b[49m\u001b[43m(\u001b[49m\u001b[43mc\u001b[49m\u001b[38;5;241;43m*\u001b[39;49m\u001b[38;5;28;43mself\u001b[39;49m\u001b[38;5;241;43m.\u001b[39;49m\u001b[43mscale\u001b[49m\u001b[43m \u001b[49m\u001b[38;5;241;43m-\u001b[39;49m\u001b[43m \u001b[49m\u001b[43mo\u001b[49m\u001b[38;5;241;43m/\u001b[39;49m\u001b[38;5;241;43m2\u001b[39;49m\u001b[43m)\u001b[49m\u001b[38;5;241;43m.\u001b[39;49m\u001b[43mclip\u001b[49m\u001b[43m(\u001b[49m\u001b[38;5;241;43m0\u001b[39;49m\u001b[43m,\u001b[49m\u001b[43m \u001b[49m\u001b[43ms\u001b[49m\u001b[43m)\u001b[49m\u001b[43m)\u001b[49m\u001b[43m,\u001b[49m\u001b[43m \u001b[49m\u001b[38;5;28;43mint\u001b[39;49m\u001b[43m(\u001b[49m\u001b[43m(\u001b[49m\u001b[43mc\u001b[49m\u001b[38;5;241;43m*\u001b[39;49m\u001b[38;5;28;43mself\u001b[39;49m\u001b[38;5;241;43m.\u001b[39;49m\u001b[43mscale\u001b[49m\u001b[43m \u001b[49m\u001b[38;5;241;43m+\u001b[39;49m\u001b[43m \u001b[49m\u001b[43mo\u001b[49m\u001b[38;5;241;43m/\u001b[39;49m\u001b[38;5;241;43m2\u001b[39;49m\u001b[43m)\u001b[49m\u001b[38;5;241;43m.\u001b[39;49m\u001b[43mclip\u001b[49m\u001b[43m(\u001b[49m\u001b[38;5;28;43mmax\u001b[39;49m\u001b[38;5;241;43m=\u001b[39;49m\u001b[43ms\u001b[49m\u001b[43m)\u001b[49m\u001b[43m)\u001b[49m\u001b[43m)\u001b[49m\n\u001b[1;32m     34\u001b[0m \u001b[43m                         \u001b[49m\u001b[38;5;28;43;01mfor\u001b[39;49;00m\u001b[43m \u001b[49m\u001b[43m(\u001b[49m\u001b[43mc\u001b[49m\u001b[43m,\u001b[49m\u001b[43m \u001b[49m\u001b[43mo\u001b[49m\u001b[43m,\u001b[49m\u001b[43m \u001b[49m\u001b[43ms\u001b[49m\u001b[43m)\u001b[49m\u001b[43m \u001b[49m\u001b[38;5;129;43;01min\u001b[39;49;00m\u001b[43m \u001b[49m\u001b[38;5;28;43mzip\u001b[39;49m\u001b[43m(\u001b[49m\u001b[43m(\u001b[49m\u001b[43mcy\u001b[49m\u001b[43m,\u001b[49m\u001b[43m \u001b[49m\u001b[43mcx\u001b[49m\u001b[43m)\u001b[49m\u001b[43m,\u001b[49m\u001b[43m \u001b[49m\u001b[38;5;28;43mself\u001b[39;49m\u001b[38;5;241;43m.\u001b[39;49m\u001b[43minput_shape\u001b[49m\u001b[43m,\u001b[49m\u001b[43m \u001b[49m\u001b[38;5;28;43mself\u001b[39;49m\u001b[38;5;241;43m.\u001b[39;49m\u001b[43mshape\u001b[49m\u001b[43m)\u001b[49m\u001b[43m)\u001b[49m\n\u001b[1;32m     35\u001b[0m         \u001b[38;5;28mself\u001b[39m\u001b[38;5;241m.\u001b[39mslices\u001b[38;5;241m.\u001b[39mappend(slices)\n\u001b[1;32m     37\u001b[0m         out_slices \u001b[38;5;241m=\u001b[39m \u001b[38;5;28mtuple\u001b[39m(\u001b[38;5;28mslice\u001b[39m(\u001b[38;5;28mint\u001b[39m((c \u001b[38;5;241m-\u001b[39m o\u001b[38;5;241m/\u001b[39m\u001b[38;5;241m2\u001b[39m)\u001b[38;5;241m.\u001b[39mclip(\u001b[38;5;241m0\u001b[39m, s)), \u001b[38;5;28mint\u001b[39m((c \u001b[38;5;241m+\u001b[39m o\u001b[38;5;241m/\u001b[39m\u001b[38;5;241m2\u001b[39m)\u001b[38;5;241m.\u001b[39mclip(\u001b[38;5;28mmax\u001b[39m\u001b[38;5;241m=\u001b[39ms)))\n\u001b[1;32m     38\u001b[0m                          \u001b[38;5;28;01mfor\u001b[39;00m (c, o, s) \u001b[38;5;129;01min\u001b[39;00m \u001b[38;5;28mzip\u001b[39m((cy, cx), \u001b[38;5;28mself\u001b[39m\u001b[38;5;241m.\u001b[39moutput_shape, \u001b[38;5;28mself\u001b[39m\u001b[38;5;241m.\u001b[39mout_data_shape))\n",
      "Input \u001b[0;32mIn [56]\u001b[0m, in \u001b[0;36m<genexpr>\u001b[0;34m(.0)\u001b[0m\n\u001b[1;32m     30\u001b[0m \u001b[38;5;28;01mfor\u001b[39;00m cx \u001b[38;5;129;01min\u001b[39;00m center_points[\u001b[38;5;241m1\u001b[39m]:\n\u001b[1;32m     31\u001b[0m     \u001b[38;5;28;01mfor\u001b[39;00m cy \u001b[38;5;129;01min\u001b[39;00m center_points[\u001b[38;5;241m0\u001b[39m]:\n\u001b[1;32m     32\u001b[0m         \u001b[38;5;66;03m# Calculate output slices for whole image\u001b[39;00m\n\u001b[0;32m---> 33\u001b[0m         slices \u001b[38;5;241m=\u001b[39m \u001b[38;5;28mtuple\u001b[39m(\u001b[38;5;28;43mslice\u001b[39;49m\u001b[43m(\u001b[49m\u001b[38;5;28;43mint\u001b[39;49m\u001b[43m(\u001b[49m\u001b[43m(\u001b[49m\u001b[43mc\u001b[49m\u001b[38;5;241;43m*\u001b[39;49m\u001b[38;5;28;43mself\u001b[39;49m\u001b[38;5;241;43m.\u001b[39;49m\u001b[43mscale\u001b[49m\u001b[43m \u001b[49m\u001b[38;5;241;43m-\u001b[39;49m\u001b[43m \u001b[49m\u001b[43mo\u001b[49m\u001b[38;5;241;43m/\u001b[39;49m\u001b[38;5;241;43m2\u001b[39;49m\u001b[43m)\u001b[49m\u001b[38;5;241;43m.\u001b[39;49m\u001b[43mclip\u001b[49m\u001b[43m(\u001b[49m\u001b[38;5;241;43m0\u001b[39;49m\u001b[43m,\u001b[49m\u001b[43m \u001b[49m\u001b[43ms\u001b[49m\u001b[43m)\u001b[49m\u001b[43m)\u001b[49m\u001b[43m,\u001b[49m\u001b[43m \u001b[49m\u001b[38;5;28;43mint\u001b[39;49m\u001b[43m(\u001b[49m\u001b[43m(\u001b[49m\u001b[43mc\u001b[49m\u001b[38;5;241;43m*\u001b[39;49m\u001b[38;5;28;43mself\u001b[39;49m\u001b[38;5;241;43m.\u001b[39;49m\u001b[43mscale\u001b[49m\u001b[43m \u001b[49m\u001b[38;5;241;43m+\u001b[39;49m\u001b[43m \u001b[49m\u001b[43mo\u001b[49m\u001b[38;5;241;43m/\u001b[39;49m\u001b[38;5;241;43m2\u001b[39;49m\u001b[43m)\u001b[49m\u001b[38;5;241;43m.\u001b[39;49m\u001b[43mclip\u001b[49m\u001b[43m(\u001b[49m\u001b[38;5;28;43mmax\u001b[39;49m\u001b[38;5;241;43m=\u001b[39;49m\u001b[43ms\u001b[49m\u001b[43m)\u001b[49m\u001b[43m)\u001b[49m\u001b[43m)\u001b[49m\n\u001b[1;32m     34\u001b[0m                          \u001b[38;5;28;01mfor\u001b[39;00m (c, o, s) \u001b[38;5;129;01min\u001b[39;00m \u001b[38;5;28mzip\u001b[39m((cy, cx), \u001b[38;5;28mself\u001b[39m\u001b[38;5;241m.\u001b[39minput_shape, \u001b[38;5;28mself\u001b[39m\u001b[38;5;241m.\u001b[39mshape))\n\u001b[1;32m     35\u001b[0m         \u001b[38;5;28mself\u001b[39m\u001b[38;5;241m.\u001b[39mslices\u001b[38;5;241m.\u001b[39mappend(slices)\n\u001b[1;32m     37\u001b[0m         out_slices \u001b[38;5;241m=\u001b[39m \u001b[38;5;28mtuple\u001b[39m(\u001b[38;5;28mslice\u001b[39m(\u001b[38;5;28mint\u001b[39m((c \u001b[38;5;241m-\u001b[39m o\u001b[38;5;241m/\u001b[39m\u001b[38;5;241m2\u001b[39m)\u001b[38;5;241m.\u001b[39mclip(\u001b[38;5;241m0\u001b[39m, s)), \u001b[38;5;28mint\u001b[39m((c \u001b[38;5;241m+\u001b[39m o\u001b[38;5;241m/\u001b[39m\u001b[38;5;241m2\u001b[39m)\u001b[38;5;241m.\u001b[39mclip(\u001b[38;5;28mmax\u001b[39m\u001b[38;5;241m=\u001b[39ms)))\n\u001b[1;32m     38\u001b[0m                          \u001b[38;5;28;01mfor\u001b[39;00m (c, o, s) \u001b[38;5;129;01min\u001b[39;00m \u001b[38;5;28mzip\u001b[39m((cy, cx), \u001b[38;5;28mself\u001b[39m\u001b[38;5;241m.\u001b[39moutput_shape, \u001b[38;5;28mself\u001b[39m\u001b[38;5;241m.\u001b[39mout_data_shape))\n",
      "\u001b[0;31mTypeError\u001b[0m: 'tuple' object is not callable"
     ]
    }
   ],
   "source": [
    "ds = HubmapDataset(f, stats, shape )"
   ]
  },
  {
   "cell_type": "code",
   "execution_count": 138,
   "metadata": {},
   "outputs": [
    {
     "data": {
      "text/html": [
       "<style>\n",
       ".tooltip {\n",
       "  position: relative;\n",
       "  display: inline-block;\n",
       "}\n",
       "\n",
       ".tooltip .tooltiptext {\n",
       "  visibility: hidden;\n",
       "  width: max-content;\n",
       "  max-width: 280px;\n",
       "  background-color: #00bcd4;\n",
       "  text-align: left;\n",
       "  color: white;\n",
       "  border-radius: 4px;\n",
       "  padding: 4px 4px;\n",
       "  border: solid 0px black;\n",
       "  line-height: 1em;\n",
       "\n",
       "  /* Position the tooltip */\n",
       "  position: absolute;\n",
       "  z-index: 1;\n",
       "}\n",
       "\n",
       ".tooltip:hover .tooltiptext {\n",
       "  visibility: visible;\n",
       "}\n",
       "</style>"
      ],
      "text/plain": [
       "<IPython.core.display.HTML object>"
      ]
     },
     "metadata": {},
     "output_type": "display_data"
    },
    {
     "ename": "SyntaxError",
     "evalue": "invalid syntax (3239041393.py, line 1)",
     "output_type": "error",
     "traceback": [
      "\u001b[0;36m  Input \u001b[0;32mIn [138]\u001b[0;36m\u001b[0m\n\u001b[0;31m    a = (int((c - o/2).clip(0, s)), int((c + o/2).clip(max=s)) for (c, o, s) in zip((cy, cx), output_shape, out_data_shape))\u001b[0m\n\u001b[0m                                                               ^\u001b[0m\n\u001b[0;31mSyntaxError\u001b[0m\u001b[0;31m:\u001b[0m invalid syntax\n"
     ]
    }
   ],
   "source": [
    "a = (int((c - o/2).clip(0, s)), int((c + o/2).clip(max=s)) for (c, o, s) in zip((cy, cx), output_shape, out_data_shape))"
   ]
  },
  {
   "cell_type": "code",
   "execution_count": 56,
   "metadata": {},
   "outputs": [
    {
     "data": {
      "text/html": [
       "<style>\n",
       ".tooltip {\n",
       "  position: relative;\n",
       "  display: inline-block;\n",
       "}\n",
       "\n",
       ".tooltip .tooltiptext {\n",
       "  visibility: hidden;\n",
       "  width: max-content;\n",
       "  max-width: 280px;\n",
       "  background-color: #00bcd4;\n",
       "  text-align: left;\n",
       "  color: white;\n",
       "  border-radius: 4px;\n",
       "  padding: 4px 4px;\n",
       "  border: solid 0px black;\n",
       "  line-height: 1em;\n",
       "\n",
       "  /* Position the tooltip */\n",
       "  position: absolute;\n",
       "  z-index: 1;\n",
       "}\n",
       "\n",
       ".tooltip:hover .tooltiptext {\n",
       "  visibility: visible;\n",
       "}\n",
       "</style>"
      ],
      "text/plain": [
       "<IPython.core.display.HTML object>"
      ]
     },
     "metadata": {},
     "output_type": "display_data"
    }
   ],
   "source": [
    "class HubmapDataset(Dataset):\n",
    "    'HubmapDataset class that does not load the full tiff files.'\n",
    "    def __init__(self, file, stats, shape, scale=3, shift=.8, output_shape=(512,512), s_th = 40):\n",
    "        \n",
    "        self.mean, self.std = stats\n",
    "        self.scale = scale\n",
    "        self.shift = shift\n",
    "        self.output_shape = output_shape\n",
    "        self.input_shape = tuple(int(t*scale) for t in self.output_shape)      \n",
    "        self.s_th = s_th #saturation blancking threshold\n",
    "        self.p_th = 1000*(self.output_shape[0]//256)**2 #threshold for the minimum number of pixels\n",
    "        self.shape = shape\n",
    "        # identity = rasterio.Affine(1, 0, 0, 0, 1, 0)\n",
    "        self.data = slideio.open_slide(f'external/{idx}.svs','SVS').get_scene(0)\n",
    "        # if self.data.count != 3:\n",
    "        #     subdatasets = self.data.subdatasets\n",
    "        #     self.layers = []\n",
    "        #     if len(subdatasets) > 0:\n",
    "        #         for i, subdataset in enumerate(subdatasets, 0):\n",
    "        #             self.layers.append(rasterio.open(subdataset))\n",
    "            \n",
    "        # Tiling\n",
    "        self.slices = []\n",
    "        self.out_slices = []\n",
    "        self.out_data_shape = tuple(int(x//self.scale) for x in self.shape)\n",
    "        start_points = [o//2 for o in self.output_shape]\n",
    "        end_points = [(s - st) for s, st in zip(self.out_data_shape, start_points)]\n",
    "        n_points = [int(s//(o*self.shift))+1 for s, o in zip(self.out_data_shape, self.output_shape)]\n",
    "        center_points = [np.linspace(st, e, num=n, endpoint=True, dtype=np.int64) for st, e, n in zip(start_points, end_points, n_points)]\n",
    "        for cx in center_points[1]:\n",
    "            for cy in center_points[0]:\n",
    "                # Calculate output slices for whole image\n",
    "                slices = tuple(slice(int((c*self.scale - o/2).clip(0, s)), int((c*self.scale + o/2).clip(max=s)))\n",
    "                                 for (c, o, s) in zip((cy, cx), self.input_shape, self.shape))\n",
    "                self.slices.append(slices)\n",
    "                \n",
    "                out_slices = tuple(slice(int((c - o/2).clip(0, s)), int((c + o/2).clip(max=s)))\n",
    "                                 for (c, o, s) in zip((cy, cx), self.output_shape, self.out_data_shape))\n",
    "                self.out_slices.append(out_slices)\n",
    "                \n",
    "\n",
    "    def __len__(self):\n",
    "        return len(self.slices)\n",
    "\n",
    "    def __getitem__(self, idx):\n",
    "        if torch.is_tensor(idx):\n",
    "            idx = idx.tolist()\n",
    "            \n",
    "        slices = self.slices[idx]\n",
    "        if self.data.count == 3: # normal\n",
    "            img = self.data.read_block(*slices\n",
    "            )\n",
    "            img = np.moveaxis(img, 0, -1)\n",
    "        else: # with subdatasets/layers\n",
    "            img = np.zeros((*self.input_shape, 3), dtype=np.uint8)\n",
    "            for fl in range(3):\n",
    "                img[:, :, fl] = self.layers[fl].read(\n",
    "                    window=Window.from_slices(*slices)\n",
    "                )\n",
    "        \n",
    "        if self.scale!=1:\n",
    "            img = cv2.resize(img, self.output_shape, interpolation = cv2.INTER_AREA)\n",
    "        \n",
    "        #check for empty imges\n",
    "        hsv = cv2.cvtColor(img, cv2.COLOR_BGR2HSV)\n",
    "        h,s,v = cv2.split(hsv)\n",
    "        if (s>self.s_th).sum() <= self.p_th or img.sum() <= self.p_th:\n",
    "            # Remove if idx=-1\n",
    "            idx = -1\n",
    "        \n",
    "        img = (img/255.0 - self.mean)/self.std\n",
    "        img = img.transpose(2, 0, 1).astype('float32')\n",
    "        \n",
    "        return torch.from_numpy(img), idx"
   ]
  },
  {
   "cell_type": "code",
   "execution_count": 3,
   "metadata": {
    "_kg_hide-input": true,
    "execution": {
     "iopub.execute_input": "2022-09-21T23:57:03.925428Z",
     "iopub.status.busy": "2022-09-21T23:57:03.923670Z",
     "iopub.status.idle": "2022-09-21T23:57:03.926121Z",
     "shell.execute_reply": "2022-09-21T23:57:03.926543Z",
     "shell.execute_reply.started": "2022-09-20T22:31:18.429218Z"
    },
    "papermill": {
     "duration": 0.038723,
     "end_time": "2022-09-21T23:57:03.926672",
     "exception": false,
     "start_time": "2022-09-21T23:57:03.887949",
     "status": "completed"
    },
    "tags": []
   },
   "outputs": [],
   "source": [
    "# Some code adapted from https://www.kaggle.com/iafoss/hubmap-pytorch-fast-ai-starter-sub\n",
    "class HubmapDataset(Dataset):\n",
    "    'HubmapDataset class that does not load the full tiff files.'\n",
    "    def __init__(self, file, stats, scale=3, shift=.8, output_shape=(512,512), s_th = 40):\n",
    "        \n",
    "        self.mean, self.std = stats\n",
    "        self.scale = scale\n",
    "        self.shift = shift\n",
    "        self.output_shape = output_shape\n",
    "        self.input_shape = tuple(int(t*scale) for t in self.output_shape)      \n",
    "        self.s_th = s_th #saturation blancking threshold\n",
    "        self.p_th = 1000*(self.output_shape[0]//256)**2 #threshold for the minimum number of pixels\n",
    "\n",
    "        # identity = rasterio.Affine(1, 0, 0, 0, 1, 0)\n",
    "        self.data = slideio.open_slide(f'external/{idx}.svs','SVS').get_scene(0)\n",
    "        # if self.data.count != 3:\n",
    "        #     subdatasets = self.data.subdatasets\n",
    "        #     self.layers = []\n",
    "        #     if len(subdatasets) > 0:\n",
    "        #         for i, subdataset in enumerate(subdatasets, 0):\n",
    "        #             self.layers.append(rasterio.open(subdataset))\n",
    "            \n",
    "        # Tiling\n",
    "        self.slices = []\n",
    "        self.out_slices = []\n",
    "        self.out_data_shape = tuple(int(x//self.scale) for x in self.data.shape)\n",
    "        start_points = [o//2 for o in self.output_shape]\n",
    "        end_points = [(s - st) for s, st in zip(self.out_data_shape, start_points)]\n",
    "        n_points = [int(s//(o*self.shift))+1 for s, o in zip(self.out_data_shape, self.output_shape)]\n",
    "        center_points = [np.linspace(st, e, num=n, endpoint=True, dtype=np.int64) for st, e, n in zip(start_points, end_points, n_points)]\n",
    "        for cx in center_points[1]:\n",
    "            for cy in center_points[0]:\n",
    "                # Calculate output slices for whole image\n",
    "                slices = tuple(slice(int((c*self.scale - o/2).clip(0, s)), int((c*self.scale + o/2).clip(max=s)))\n",
    "                                 for (c, o, s) in zip((cy, cx), self.input_shape, self.data.shape))\n",
    "                self.slices.append(slices)\n",
    "                \n",
    "                out_slices = tuple(slice(int((c - o/2).clip(0, s)), int((c + o/2).clip(max=s)))\n",
    "                                 for (c, o, s) in zip((cy, cx), self.output_shape, self.out_data_shape))\n",
    "                self.out_slices.append(out_slices)\n",
    "                \n",
    "\n",
    "    def __len__(self):\n",
    "        return len(self.slices)\n",
    "\n",
    "    def __getitem__(self, idx):\n",
    "        if torch.is_tensor(idx):\n",
    "            idx = idx.tolist()\n",
    "            \n",
    "        slices = self.slices[idx]\n",
    "        if self.data.count == 3: # normal\n",
    "            img = self.data.read_block()([1, 2, 3], \n",
    "                window=Window.from_slices(*slices)\n",
    "            )\n",
    "            img = np.moveaxis(img, 0, -1)\n",
    "        else: # with subdatasets/layers\n",
    "            img = np.zeros((*self.input_shape, 3), dtype=np.uint8)\n",
    "            for fl in range(3):\n",
    "                img[:, :, fl] = self.layers[fl].read(\n",
    "                    window=Window.from_slices(*slices)\n",
    "                )\n",
    "        \n",
    "        if self.scale!=1:\n",
    "            img = cv2.resize(img, self.output_shape, interpolation = cv2.INTER_AREA)\n",
    "        \n",
    "        #check for empty imges\n",
    "        hsv = cv2.cvtColor(img, cv2.COLOR_BGR2HSV)\n",
    "        h,s,v = cv2.split(hsv)\n",
    "        if (s>self.s_th).sum() <= self.p_th or img.sum() <= self.p_th:\n",
    "            # Remove if idx=-1\n",
    "            idx = -1\n",
    "        \n",
    "        img = (img/255.0 - self.mean)/self.std\n",
    "        img = img.transpose(2, 0, 1).astype('float32')\n",
    "        \n",
    "        return torch.from_numpy(img), idx\n",
    "    \n",
    "class Model_pred:\n",
    "    'Class for prediction with multiple models'\n",
    "    def __init__(self, models, use_tta=True, batch_size=32):\n",
    "        self.models = models\n",
    "        self.bs = batch_size\n",
    "        self.tfms = [tta.HorizontalFlip()] if use_tta else [] #, tta.VerticalFlip()]  \n",
    "        \n",
    "    def predict(self, ds):\n",
    "        #rasterio cannot be used with multiple workers\n",
    "        dl = DataLoader(ds, self.bs, num_workers=0, shuffle=False, pin_memory=True)\n",
    "        \n",
    "        # Create zero arrays\n",
    "        pred = np.zeros(ds.out_data_shape, dtype='float32')\n",
    "        merge_map = np.zeros(ds.out_data_shape, dtype='float32')\n",
    "        \n",
    "        # Gaussian weights\n",
    "        gw_numpy = _get_gaussian(ds.output_shape)\n",
    "        gw = torch.from_numpy(gw_numpy).to(device)\n",
    "        \n",
    "        with torch.no_grad():\n",
    "            for images, idxs in tqdm(iter(dl), total=len(dl)):\n",
    "                if ((idxs>=0).sum() > 0): #exclude empty images\n",
    "                    images = images[idxs>=0].to(device)\n",
    "                    idxs = idxs[idxs>=0]\n",
    "                    merger = tta.Merger()\n",
    "                    for t in tta.Compose(self.tfms):\n",
    "                        aug_images = t.augment_image(images)\n",
    "                        model_merger = tta.Merger()\n",
    "                        for model in self.models:\n",
    "                            out = model(aug_images)\n",
    "                            out = F.softmax(out, dim=1)\n",
    "                            model_merger.append(out)\n",
    "                        out = t.deaugment_mask(model_merger.result())\n",
    "                        merger.append(out)\n",
    "            \n",
    "                    # Apply gaussian weigthing\n",
    "                    batch_smx = merger.result()*gw.view(1,1,*gw.shape)\n",
    "                    batch_smx = [x for x in batch_smx.permute(0,2,3,1).cpu().numpy()]\n",
    "\n",
    "                    for smx, idx in zip(batch_smx, idxs):\n",
    "                        slcs = ds.out_slices[idx]\n",
    "                        # Only using positive class here\n",
    "                        pred[slcs] += smx[...,1]\n",
    "                        merge_map[slcs] += gw_numpy\n",
    "\n",
    "        pred /= merge_map\n",
    "        return pred"
   ]
  },
  {
   "cell_type": "markdown",
   "metadata": {
    "papermill": {
     "duration": 0.012339,
     "end_time": "2022-09-21T23:57:03.951357",
     "exception": false,
     "start_time": "2022-09-21T23:57:03.939018",
     "status": "completed"
    },
    "tags": []
   },
   "source": [
    "### Configuration"
   ]
  },
  {
   "cell_type": "code",
   "execution_count": 4,
   "metadata": {
    "execution": {
     "iopub.execute_input": "2022-09-21T23:57:03.981618Z",
     "iopub.status.busy": "2022-09-21T23:57:03.980962Z",
     "iopub.status.idle": "2022-09-21T23:57:03.983906Z",
     "shell.execute_reply": "2022-09-21T23:57:03.983488Z",
     "shell.execute_reply.started": "2022-09-20T22:31:18.458508Z"
    },
    "papermill": {
     "duration": 0.020316,
     "end_time": "2022-09-21T23:57:03.984020",
     "exception": false,
     "start_time": "2022-09-21T23:57:03.963704",
     "status": "completed"
    },
    "tags": []
   },
   "outputs": [],
   "source": [
    "class CONFIG():\n",
    "    \n",
    "    # data paths\n",
    "    data_path = Path('../input/hubmap-organ-segmentation')\n",
    "    model_path = Path('../input/deepflash-efficient-sampling')\n",
    "    \n",
    "    # zoom factor (e.g., 3 means downscaling from 1536 to 512)\n",
    "    scale = 1 \n",
    "    # tile shift for prediction\n",
    "    shift = 0.8 \n",
    "    tile_shape = (512, 512) #512\n",
    "\n",
    "    # pytorch model (https://github.com/qubvel/segmentation_models.pytorch)\n",
    "    encoder_name = \"efficientnet-b4\"\n",
    "    encoder_weights = None\n",
    "    in_channels = 3\n",
    "    classes = 2\n",
    "    \n",
    "    # dataloader \n",
    "    batch_size = 16\n",
    "    \n",
    "    # test time augmentation\n",
    "    tta = True\n",
    "    # prediction threshold\n",
    "    threshold = 0.5\n",
    "    \n",
    "cfg = CONFIG()"
   ]
  },
  {
   "cell_type": "code",
   "execution_count": 5,
   "metadata": {
    "execution": {
     "iopub.execute_input": "2022-09-21T23:57:04.070151Z",
     "iopub.status.busy": "2022-09-21T23:57:04.069462Z",
     "iopub.status.idle": "2022-09-21T23:57:04.071534Z",
     "shell.execute_reply": "2022-09-21T23:57:04.072069Z",
     "shell.execute_reply.started": "2022-09-20T22:31:18.474687Z"
    },
    "papermill": {
     "duration": 0.075972,
     "end_time": "2022-09-21T23:57:04.072210",
     "exception": false,
     "start_time": "2022-09-21T23:57:03.996238",
     "status": "completed"
    },
    "tags": []
   },
   "outputs": [],
   "source": [
    "device = torch.device('cuda' if torch.cuda.is_available() else 'cpu')"
   ]
  },
  {
   "cell_type": "code",
   "execution_count": 6,
   "metadata": {
    "execution": {
     "iopub.execute_input": "2022-09-21T23:57:04.104194Z",
     "iopub.status.busy": "2022-09-21T23:57:04.103552Z",
     "iopub.status.idle": "2022-09-21T23:57:04.106714Z",
     "shell.execute_reply": "2022-09-21T23:57:04.106259Z",
     "shell.execute_reply.started": "2022-09-20T22:31:18.549010Z"
    },
    "papermill": {
     "duration": 0.020853,
     "end_time": "2022-09-21T23:57:04.106820",
     "exception": false,
     "start_time": "2022-09-21T23:57:04.085967",
     "status": "completed"
    },
    "tags": []
   },
   "outputs": [],
   "source": [
    "def model_pred(path):\n",
    "    MODELS = [f for f in path.iterdir() if f.suffix=='.pth']\n",
    "    print(f'Found {len(MODELS)} models', *MODELS)\n",
    "\n",
    "    models = []\n",
    "    for i, m_path in enumerate(MODELS):\n",
    "        #state_dict = torch.load(path,map_location=torch.device('cpu'))\n",
    "        model = smp.Unet(encoder_name=cfg.encoder_name, \n",
    "                         encoder_weights=cfg.encoder_weights, \n",
    "                         in_channels=cfg.in_channels, \n",
    "                         classes=cfg.classes)\n",
    "        model, stats = load_model_weights(model, m_path)\n",
    "        model.float()\n",
    "        model.eval()\n",
    "        model.to(device)\n",
    "        models.append(model)\n",
    "        models.append(model)\n",
    "\n",
    "    mp = Model_pred(models, use_tta=cfg.tta, batch_size=cfg.batch_size)\n",
    "    return mp"
   ]
  },
  {
   "cell_type": "markdown",
   "metadata": {
    "papermill": {
     "duration": 0.012173,
     "end_time": "2022-09-21T23:57:04.131165",
     "exception": false,
     "start_time": "2022-09-21T23:57:04.118992",
     "status": "completed"
    },
    "tags": []
   },
   "source": [
    "### Prediction"
   ]
  },
  {
   "cell_type": "code",
   "execution_count": 7,
   "metadata": {
    "execution": {
     "iopub.execute_input": "2022-09-21T23:57:04.161486Z",
     "iopub.status.busy": "2022-09-21T23:57:04.160948Z",
     "iopub.status.idle": "2022-09-21T23:57:04.176666Z",
     "shell.execute_reply": "2022-09-21T23:57:04.177224Z",
     "shell.execute_reply.started": "2022-09-20T22:31:18.559610Z"
    },
    "papermill": {
     "duration": 0.033846,
     "end_time": "2022-09-21T23:57:04.177388",
     "exception": false,
     "start_time": "2022-09-21T23:57:04.143542",
     "status": "completed"
    },
    "tags": []
   },
   "outputs": [],
   "source": [
    "df_sample = pd.read_csv('../input/hubmap-organ-segmentation/test.csv', index_col = 'id')\n",
    "path_prostate = Path('../input/deepflash-efficient-sampling-prostate')\n",
    "path_prostate = Path('../input/prostate')\n",
    "\n",
    "path_spleen = Path('../input/deepflash-efficient-sampling-spleen')\n",
    "path_lung = Path('../input/deepflash-efficient-sampling-lung2')\n",
    "\n",
    "path_kidney =Path('../input/deepflash-efficient-sampling-kidney')\n",
    "path_kidney2 = Path('../input/deepflash-efficient-sampling-train-external')\n",
    "\n",
    "path_largeintestine =Path('../input/deepflash-efficient-sampling-largeintestine')"
   ]
  },
  {
   "cell_type": "code",
   "execution_count": 8,
   "metadata": {
    "execution": {
     "iopub.execute_input": "2022-09-21T23:57:04.210348Z",
     "iopub.status.busy": "2022-09-21T23:57:04.209676Z",
     "iopub.status.idle": "2022-09-21T23:57:04.212368Z",
     "shell.execute_reply": "2022-09-21T23:57:04.212787Z",
     "shell.execute_reply.started": "2022-09-20T22:31:18.586307Z"
    },
    "papermill": {
     "duration": 0.022958,
     "end_time": "2022-09-21T23:57:04.212947",
     "exception": false,
     "start_time": "2022-09-21T23:57:04.189989",
     "status": "completed"
    },
    "tags": []
   },
   "outputs": [],
   "source": [
    "def predict(model_path, df_tissue,sc=3, tile_shape=(512,512), train=False):\n",
    "    mp = model_pred(model_path)\n",
    "    for idx,row in df_tissue.iterrows():\n",
    "        \n",
    "        if train:\n",
    "\n",
    "            f = cfg.data_path/'train_images'/f'{idx}.tiff'\n",
    "            \n",
    "        else:\n",
    "            f = cfg.data_path/'test_images'/f'{idx}.tiff'\n",
    "        #if very small image, use 160 tile\n",
    "#         if df_tissue.loc[idx].img_height < 512:\n",
    "#             ds = HubmapDataset(f, stats, scale=1, shift=0.8, output_shape=(160,160))\n",
    "#             pred = mp.predict(ds) \n",
    "#             shape = ds.data.shape\n",
    "#             pred = cv2.resize((pred*255).astype('uint8'), (shape[1], shape[0]))\n",
    "#             pred = (pred>cfg.threshold*255).astype(np.uint8)\n",
    "#             #convert to rle\n",
    "#         #     #https://www.kaggle.com/bguberfain/memory-aware-rle-encoding\n",
    "#             rle = rle_encode_less_memory(pred)\n",
    "\n",
    "#             names.append(str(idx))\n",
    "#             preds.append(rle)\n",
    "\n",
    "#             del pred\n",
    "#             gc.collect()\n",
    "        #if large image, use 256 tile\n",
    "#         else:\n",
    "        ds = HubmapDataset(f, stats, scale=sc, shift=0.8, output_shape=tile_shape)\n",
    "        pred = mp.predict(ds) \n",
    "        shape = ds.data.shape\n",
    "        pred = cv2.resize((pred*255).astype('uint8'), (shape[1], shape[0]))\n",
    "        pred = (pred>cfg.threshold*255).astype(np.uint8)\n",
    "        \n",
    "        if train:\n",
    "            print(idx)\n",
    "            with rasterio.open(f) as d:\n",
    "                im = d.read()\n",
    "            plt.imshow(im.transpose(1,2,0))\n",
    "            plt.imshow(pred, alpha=0.2)\n",
    "            plt.show()\n",
    "        #convert to rle\n",
    "    #     #https://www.kaggle.com/bguberfain/memory-aware-rle-encoding\n",
    "        rle = rle_encode_less_memory(pred)\n",
    "\n",
    "        names.append(str(idx))\n",
    "        preds.append(rle)\n",
    "\n",
    "        del pred\n",
    "        gc.collect()"
   ]
  },
  {
   "cell_type": "code",
   "execution_count": 9,
   "metadata": {
    "execution": {
     "iopub.execute_input": "2022-09-21T23:57:04.241062Z",
     "iopub.status.busy": "2022-09-21T23:57:04.240523Z",
     "iopub.status.idle": "2022-09-21T23:57:04.244481Z",
     "shell.execute_reply": "2022-09-21T23:57:04.244077Z",
     "shell.execute_reply.started": "2022-09-20T22:31:18.597070Z"
    },
    "papermill": {
     "duration": 0.019229,
     "end_time": "2022-09-21T23:57:04.244591",
     "exception": false,
     "start_time": "2022-09-21T23:57:04.225362",
     "status": "completed"
    },
    "tags": []
   },
   "outputs": [],
   "source": [
    "stats = np.array([0.61561477, 0.5179343 , 0.64067212]), np.array([0.2915353 , 0.31549066, 0.28647661])"
   ]
  },
  {
   "cell_type": "code",
   "execution_count": 10,
   "metadata": {
    "execution": {
     "iopub.execute_input": "2022-09-21T23:57:04.279524Z",
     "iopub.status.busy": "2022-09-21T23:57:04.278717Z",
     "iopub.status.idle": "2022-09-21T23:57:12.609670Z",
     "shell.execute_reply": "2022-09-21T23:57:12.609204Z",
     "shell.execute_reply.started": "2022-09-20T22:31:18.612151Z"
    },
    "papermill": {
     "duration": 8.353045,
     "end_time": "2022-09-21T23:57:12.609809",
     "exception": false,
     "start_time": "2022-09-21T23:57:04.256764",
     "status": "completed"
    },
    "tags": []
   },
   "outputs": [
    {
     "data": {
      "application/vnd.jupyter.widget-view+json": {
       "model_id": "dac6d37cd61f47c0bf51625d00ce13ac",
       "version_major": 2,
       "version_minor": 0
      },
      "text/plain": [
       "  0%|          | 0/1 [00:00<?, ?it/s]"
      ]
     },
     "metadata": {},
     "output_type": "display_data"
    },
    {
     "name": "stdout",
     "output_type": "stream",
     "text": [
      "Found 1 models ../input/deepflash-efficient-sampling-spleen/unet_efficientnet-b4.pth\n"
     ]
    },
    {
     "data": {
      "application/vnd.jupyter.widget-view+json": {
       "model_id": "138048decba64450a2b62dc931b4961e",
       "version_major": 2,
       "version_minor": 0
      },
      "text/plain": [
       "  0%|          | 0/1 [00:00<?, ?it/s]"
      ]
     },
     "metadata": {},
     "output_type": "display_data"
    },
    {
     "data": {
      "image/png": "[encoded data removed]",
      "text/plain": [
       "<Figure size 432x288 with 1 Axes>"
      ]
     },
     "metadata": {
      "needs_background": "light"
     },
     "output_type": "display_data"
    }
   ],
   "source": [
    "debug = len(df_sample)<2\n",
    "if debug:\n",
    "    names,preds = [],[]\n",
    "    for idx,row in tqdm(df_sample.iterrows(),total=len(df_sample)):\n",
    "\n",
    "        f = cfg.data_path/'test_images'/f'{idx}.tiff'\n",
    "        mp = model_pred(path_spleen)\n",
    "        \n",
    "        ds = HubmapDataset(f, stats, scale=2, shift=0.8, output_shape=(512,512))\n",
    "        \n",
    "        pred = mp.predict(ds) \n",
    "        shape = ds.data.shape\n",
    "        pred = cv2.resize((pred*255).astype('uint8'), (shape[1], shape[0]))\n",
    "        pred = (pred>cfg.threshold*255).astype(np.uint8)\n",
    "        \n",
    "        plt.imshow(pred)\n",
    "        #convert to rle\n",
    "    #     #https://www.kaggle.com/bguberfain/memory-aware-rle-encoding\n",
    "        rle = rle_encode_less_memory(pred)\n",
    "        names.append(str(idx))\n",
    "        preds.append(rle)\n",
    "        \n",
    "        del pred\n",
    "        gc.collect()\n",
    "        \n",
    "    df = pd.DataFrame({'id':names,'rle':preds})\n",
    "    df.to_csv('submission.csv',index=False)\n",
    "else:\n",
    "    names,preds = [],[]\n",
    "    \n",
    "    df_hpa = df_sample.query(\"data_source == 'HPA'\")\n",
    "    for idx,row in df_hpa.iterrows():\n",
    "        names.append(str(idx))\n",
    "        rle = ''\n",
    "        preds.append(rle)\n",
    "        \n",
    "    df_hubmap = df_sample.query(\"data_source == 'Hubmap'\")\n",
    "    \n",
    "    df_prostate = df_hubmap.query(\"organ == 'prostate'\")\n",
    "#     for idx,row in df_prostate.iterrows():\n",
    "#         names.append(str(idx))\n",
    "#         rle = ''\n",
    "#         preds.append(rle)\n",
    "    \n",
    "    df_spleen = df_hubmap.query(\"organ == 'spleen'\")\n",
    "    for idx,row in df_spleen.iterrows():\n",
    "        names.append(str(idx))\n",
    "        rle = ''\n",
    "        preds.append(rle)\n",
    "    \n",
    "    df_lung = df_hubmap.query(\"organ == 'lung'\")\n",
    "    for idx,row in df_lung.iterrows():\n",
    "        names.append(str(idx))\n",
    "        rle = ''\n",
    "        preds.append(rle)\n",
    "        \n",
    "    df_kidney = df_hubmap.query(\"organ == 'kidney'\")\n",
    "    for idx,row in df_kidney.iterrows():\n",
    "        names.append(str(idx))\n",
    "        rle = ''\n",
    "        preds.append(rle)\n",
    "        \n",
    "    df_largeintestine = df_hubmap.query(\"organ == 'largeintestine'\")\n",
    "    for idx,row in df_largeintestine.iterrows():\n",
    "        names.append(str(idx))\n",
    "        rle = ''\n",
    "        preds.append(rle)\n",
    "\n",
    "\n",
    "    \n",
    "#     predict(path_prostate, df_prostate,sc=1, tile_shape=(160,160))\n",
    "    \n",
    "    predict(path_prostate, df_prostate,sc=0.1916, tile_shape=(512,512)) #5.21916667, final picture size is 835\n",
    "    #training, prostate, use scale 3, 512; use blurred prostate to train\n",
    "    \n",
    "#     predict(path_spleen, df_spleen,sc=2, tile_shape=(512,512)) #changed to latest 2*1.2,512\n",
    "    \n",
    "#     predict(path_lung, df_lung,sc=1, tile_shape=(512,512)) #when training,use scale 2, 512\n",
    "#     predict(path_kidney2, df_kidney,sc=3, tile_shape=(512,512)) #can use this scale and tile\n",
    "#     predict(path_largeintestine, df_largeintestine, sc=3, tile_shape=(512,512)) #need to check shape first"
   ]
  },
  {
   "cell_type": "markdown",
   "metadata": {
    "papermill": {
     "duration": 0.013951,
     "end_time": "2022-09-21T23:57:12.638497",
     "exception": false,
     "start_time": "2022-09-21T23:57:12.624546",
     "status": "completed"
    },
    "tags": []
   },
   "source": [
    "## Use train to test"
   ]
  },
  {
   "cell_type": "code",
   "execution_count": 11,
   "metadata": {
    "execution": {
     "iopub.execute_input": "2022-09-21T23:57:12.672688Z",
     "iopub.status.busy": "2022-09-21T23:57:12.671002Z",
     "iopub.status.idle": "2022-09-21T23:57:12.673369Z",
     "shell.execute_reply": "2022-09-21T23:57:12.673793Z",
     "shell.execute_reply.started": "2022-09-20T22:31:27.975609Z"
    },
    "papermill": {
     "duration": 0.021321,
     "end_time": "2022-09-21T23:57:12.673956",
     "exception": false,
     "start_time": "2022-09-21T23:57:12.652635",
     "status": "completed"
    },
    "tags": []
   },
   "outputs": [],
   "source": [
    "# df_sample=pd.read_csv('../input/hubmap-organ-segmentation/train.csv', index_col='id')"
   ]
  },
  {
   "cell_type": "code",
   "execution_count": 12,
   "metadata": {
    "execution": {
     "iopub.execute_input": "2022-09-21T23:57:12.705717Z",
     "iopub.status.busy": "2022-09-21T23:57:12.705193Z",
     "iopub.status.idle": "2022-09-21T23:57:12.709069Z",
     "shell.execute_reply": "2022-09-21T23:57:12.708562Z",
     "shell.execute_reply.started": "2022-09-20T22:31:28.337561Z"
    },
    "papermill": {
     "duration": 0.021161,
     "end_time": "2022-09-21T23:57:12.709271",
     "exception": false,
     "start_time": "2022-09-21T23:57:12.688110",
     "status": "completed"
    },
    "tags": []
   },
   "outputs": [],
   "source": [
    "# # Prostate\n",
    "# df_prostate = df_sample.query(\"organ == 'prostate'\")\n",
    "# predict(path_prostate, df_prostate, sc=3, tile_shape=(512,512),train=True)"
   ]
  },
  {
   "cell_type": "code",
   "execution_count": 13,
   "metadata": {
    "execution": {
     "iopub.execute_input": "2022-09-21T23:57:12.740743Z",
     "iopub.status.busy": "2022-09-21T23:57:12.740197Z",
     "iopub.status.idle": "2022-09-21T23:57:12.744172Z",
     "shell.execute_reply": "2022-09-21T23:57:12.743694Z",
     "shell.execute_reply.started": "2022-09-20T22:31:28.344125Z"
    },
    "papermill": {
     "duration": 0.020504,
     "end_time": "2022-09-21T23:57:12.744288",
     "exception": false,
     "start_time": "2022-09-21T23:57:12.723784",
     "status": "completed"
    },
    "tags": []
   },
   "outputs": [],
   "source": [
    "# # spleen\n",
    "# df_spleen = df_sample.query(\"organ == 'spleen'\")\n",
    "# predict(path_spleen, df_spleen,sc=2.4725, tile_shape=(512,512), train=True)"
   ]
  },
  {
   "cell_type": "code",
   "execution_count": 14,
   "metadata": {
    "execution": {
     "iopub.execute_input": "2022-09-21T23:57:12.776104Z",
     "iopub.status.busy": "2022-09-21T23:57:12.775552Z",
     "iopub.status.idle": "2022-09-21T23:57:12.779092Z",
     "shell.execute_reply": "2022-09-21T23:57:12.778645Z",
     "shell.execute_reply.started": "2022-09-20T22:31:28.354036Z"
    },
    "papermill": {
     "duration": 0.021195,
     "end_time": "2022-09-21T23:57:12.779209",
     "exception": false,
     "start_time": "2022-09-21T23:57:12.758014",
     "status": "completed"
    },
    "tags": []
   },
   "outputs": [],
   "source": [
    "# # kidney\n",
    "# df_kidney = df_sample.query(\"organ == 'kidney'\")\n",
    "# predict(path_kidney2, df_kidney,sc=3.75, tile_shape=(512,512), train=True)"
   ]
  },
  {
   "cell_type": "code",
   "execution_count": 15,
   "metadata": {
    "execution": {
     "iopub.execute_input": "2022-09-21T23:57:12.813660Z",
     "iopub.status.busy": "2022-09-21T23:57:12.812980Z",
     "iopub.status.idle": "2022-09-21T23:57:12.817447Z",
     "shell.execute_reply": "2022-09-21T23:57:12.817884Z"
    },
    "papermill": {
     "duration": 0.023538,
     "end_time": "2022-09-21T23:57:12.818130",
     "exception": false,
     "start_time": "2022-09-21T23:57:12.794592",
     "status": "completed"
    },
    "tags": []
   },
   "outputs": [],
   "source": [
    "# # large_intestine\n",
    "# df_largeintestine = df_sample.query(\"organ == 'largeintestine'\")\n",
    "# predict(path_largeintestine, df_largeintestine,sc=1.7175, tile_shape=(512,512), train=True)"
   ]
  },
  {
   "cell_type": "code",
   "execution_count": 16,
   "metadata": {
    "execution": {
     "iopub.execute_input": "2022-09-21T23:57:12.857209Z",
     "iopub.status.busy": "2022-09-21T23:57:12.855237Z",
     "iopub.status.idle": "2022-09-21T23:57:12.857929Z",
     "shell.execute_reply": "2022-09-21T23:57:12.858433Z"
    },
    "papermill": {
     "duration": 0.023228,
     "end_time": "2022-09-21T23:57:12.858575",
     "exception": false,
     "start_time": "2022-09-21T23:57:12.835347",
     "status": "completed"
    },
    "tags": []
   },
   "outputs": [],
   "source": [
    "# # lung\n",
    "# df_lung = df_sample.query(\"organ == 'lung'\")\n",
    "# predict(path_lung, df_lung,sc=1.8905, tile_shape=(512,512), train=True)"
   ]
  },
  {
   "cell_type": "code",
   "execution_count": 17,
   "metadata": {
    "execution": {
     "iopub.execute_input": "2022-09-21T23:57:12.898043Z",
     "iopub.status.busy": "2022-09-21T23:57:12.897383Z",
     "iopub.status.idle": "2022-09-21T23:57:12.901469Z",
     "shell.execute_reply": "2022-09-21T23:57:12.900985Z",
     "shell.execute_reply.started": "2022-09-20T22:31:28.385360Z"
    },
    "papermill": {
     "duration": 0.026674,
     "end_time": "2022-09-21T23:57:12.901594",
     "exception": false,
     "start_time": "2022-09-21T23:57:12.874920",
     "status": "completed"
    },
    "tags": []
   },
   "outputs": [],
   "source": [
    "df = pd.DataFrame({'id':names,'rle':preds})\n",
    "df.to_csv('submission.csv',index=False)"
   ]
  },
  {
   "cell_type": "code",
   "execution_count": 18,
   "metadata": {
    "execution": {
     "iopub.execute_input": "2022-09-21T23:57:12.936584Z",
     "iopub.status.busy": "2022-09-21T23:57:12.936051Z",
     "iopub.status.idle": "2022-09-21T23:57:12.939860Z",
     "shell.execute_reply": "2022-09-21T23:57:12.939455Z",
     "shell.execute_reply.started": "2022-09-20T22:31:28.397867Z"
    },
    "papermill": {
     "duration": 0.02151,
     "end_time": "2022-09-21T23:57:12.940005",
     "exception": false,
     "start_time": "2022-09-21T23:57:12.918495",
     "status": "completed"
    },
    "tags": []
   },
   "outputs": [],
   "source": [
    "# names,preds = [],[]\n",
    "\n",
    "# mp = model_pred(path_prostate)\n",
    "# for idx,row in df_prostate.iterrows():\n",
    "\n",
    "#     f = cfg.data_path/'test_images'/f'{idx}.tiff'\n",
    "#     #if very small image, use 160 tile\n",
    "#     if df_prostate.loc[idx].img_height < cfg.tile_shape[0]:\n",
    "#         ds = HubmapDataset(f, stats, scale=1, shift=0.8, output_shape=(160,160))\n",
    "#         pred = mp.predict(ds) \n",
    "#         shape = ds.data.shape\n",
    "#         pred = cv2.resize((pred*255).astype('uint8'), (shape[1], shape[0]))\n",
    "#         pred = (pred>cfg.threshold*255).astype(np.uint8)\n",
    "#         #convert to rle\n",
    "#     #     #https://www.kaggle.com/bguberfain/memory-aware-rle-encoding\n",
    "#         rle = rle_encode_less_memory(pred)\n",
    "\n",
    "#         names.append(str(idx))\n",
    "#         preds.append(rle)\n",
    "\n",
    "#         del pred\n",
    "#         gc.collect()\n",
    "#     #if large image, use 256 tile\n",
    "#     else:\n",
    "#         ds = HubmapDataset(f, stats, scale=1, shift=0.8, output_shape=(256,256))\n",
    "#         pred = mp.predict(ds) \n",
    "#         shape = ds.data.shape\n",
    "#         pred = cv2.resize((pred*255).astype('uint8'), (shape[1], shape[0]))\n",
    "#         pred = (pred>cfg.threshold*255).astype(np.uint8)\n",
    "#         #convert to rle\n",
    "#     #     #https://www.kaggle.com/bguberfain/memory-aware-rle-encoding\n",
    "#         rle = rle_encode_less_memory(pred)\n",
    "\n",
    "#         names.append(str(idx))\n",
    "#         preds.append(rle)\n",
    "\n",
    "#         del pred\n",
    "#         gc.collect()"
   ]
  },
  {
   "cell_type": "code",
   "execution_count": 19,
   "metadata": {
    "execution": {
     "iopub.execute_input": "2022-09-21T23:57:12.971574Z",
     "iopub.status.busy": "2022-09-21T23:57:12.971043Z",
     "iopub.status.idle": "2022-09-21T23:57:12.974309Z",
     "shell.execute_reply": "2022-09-21T23:57:12.974700Z",
     "shell.execute_reply.started": "2022-09-20T22:31:28.408400Z"
    },
    "papermill": {
     "duration": 0.020946,
     "end_time": "2022-09-21T23:57:12.974826",
     "exception": false,
     "start_time": "2022-09-21T23:57:12.953880",
     "status": "completed"
    },
    "tags": []
   },
   "outputs": [],
   "source": [
    "# from rasterio import Affine\n",
    "# from rasterio.transform import Affine\n",
    "# from rasterio.plot import show\n",
    "# f = '../input/hubmap-organ-segmentation/test_images/10078.tiff'\n",
    "# data.transform = Affine(2.0, 0.0, 0.0,\n",
    "#        0.0, 2.0, 0.0)\n",
    "# data3 = rasterio.open(f, transform = Affine(2., 0., 0., 0., 2., 0.))\n",
    "# with rasterio.open('../input/hubmap-organ-segmentation/test_images/10078.tiff',\n",
    "#                    transform=rasterio.Affine(1, 0, 0, 0, 1, 0) ) as d:\n",
    "#     im = d.read()\n",
    "\n",
    "# #create small tiff\n",
    "# with rasterio.open('../input/hubmap-organ-segmentation/test_images/10078.tiff') as d:\n",
    "#     im = d.read(window=Window.from_slices((1,100),(1,100)))\n",
    "# from rasterio import Affine\n",
    "# d.meta\n",
    "# meta={'driver': 'GTiff',\n",
    "#  'dtype': 'uint8',\n",
    "#  'nodata': None,\n",
    "#  'width': 100,\n",
    "#  'height': 100,\n",
    "#  'count': 3,\n",
    "#  'crs': None,\n",
    "#  'transform': Affine(1.0, 0.0, 0.0,0.0, 1.0, 0.0)}\n",
    "# from rasterio.plot import show\n",
    "# show(im)\n",
    "# with rasterio.open('10078_small.tiff','w',**meta) as dst:\n",
    "#                 dst.write(im)\n",
    "\n",
    "\n",
    "# # Test small img in hubmapdataset\n",
    "# f = '../input/small-tiff/10078_small.tiff'\n",
    "# ds = HubmapDataset(f,stats,scale=0.2, output_shape=(120,120))\n",
    "# len(ds)\n",
    "# for img, idx in iter(ds):\n",
    "#     show(img.numpy())\n",
    "#     print(img.shape)\n"
   ]
  }
 ],
 "metadata": {
  "kernelspec": {
   "display_name": "Python 3 (ipykernel)",
   "language": "python",
   "name": "python3"
  },
  "language_info": {
   "codemirror_mode": {
    "name": "ipython",
    "version": 3
   },
   "file_extension": ".py",
   "mimetype": "text/x-python",
   "name": "python",
   "nbconvert_exporter": "python",
   "pygments_lexer": "ipython3",
   "version": "3.9.13"
  },
  "papermill": {
   "default_parameters": {},
   "duration": 44.366712,
   "end_time": "2022-09-21T23:57:13.898026",
   "environment_variables": {},
   "exception": null,
   "input_path": "__notebook__.ipynb",
   "output_path": "__notebook__.ipynb",
   "parameters": {},
   "start_time": "2022-09-21T23:56:29.531314",
   "version": "2.2.2"
  },
  "widgets": {
   "application/vnd.jupyter.widget-state+json": {
    "state": {
     "008da6bbbdc84e1c9ac4692ee11a1fd4": {
      "model_module": "@jupyter-widgets/controls",
      "model_module_version": "1.5.0",
      "model_name": "HTMLModel",
      "state": {
       "_dom_classes": [],
       "_model_module": "@jupyter-widgets/controls",
       "_model_module_version": "1.5.0",
       "_model_name": "HTMLModel",
       "_view_count": null,
       "_view_module": "@jupyter-widgets/controls",
       "_view_module_version": "1.5.0",
       "_view_name": "HTMLView",
       "description": "",
       "description_tooltip": null,
       "layout": "IPY_MODEL_131f774bec97498db39cf4c878226edb",
       "placeholder": "​",
       "style": "IPY_MODEL_08ae184ab31442b4abc4b04c01c48b46",
       "value": " 1/1 [00:01&lt;00:00,  1.90s/it]"
      }
     },
     "08ae184ab31442b4abc4b04c01c48b46": {
      "model_module": "@jupyter-widgets/controls",
      "model_module_version": "1.5.0",
      "model_name": "DescriptionStyleModel",
      "state": {
       "_model_module": "@jupyter-widgets/controls",
       "_model_module_version": "1.5.0",
       "_model_name": "DescriptionStyleModel",
       "_view_count": null,
       "_view_module": "@jupyter-widgets/base",
       "_view_module_version": "1.2.0",
       "_view_name": "StyleView",
       "description_width": ""
      }
     },
     "131f774bec97498db39cf4c878226edb": {
      "model_module": "@jupyter-widgets/base",
      "model_module_version": "1.2.0",
      "model_name": "LayoutModel",
      "state": {
       "_model_module": "@jupyter-widgets/base",
       "_model_module_version": "1.2.0",
       "_model_name": "LayoutModel",
       "_view_count": null,
       "_view_module": "@jupyter-widgets/base",
       "_view_module_version": "1.2.0",
       "_view_name": "LayoutView",
       "align_content": null,
       "align_items": null,
       "align_self": null,
       "border": null,
       "bottom": null,
       "display": null,
       "flex": null,
       "flex_flow": null,
       "grid_area": null,
       "grid_auto_columns": null,
       "grid_auto_flow": null,
       "grid_auto_rows": null,
       "grid_column": null,
       "grid_gap": null,
       "grid_row": null,
       "grid_template_areas": null,
       "grid_template_columns": null,
       "grid_template_rows": null,
       "height": null,
       "justify_content": null,
       "justify_items": null,
       "left": null,
       "margin": null,
       "max_height": null,
       "max_width": null,
       "min_height": null,
       "min_width": null,
       "object_fit": null,
       "object_position": null,
       "order": null,
       "overflow": null,
       "overflow_x": null,
       "overflow_y": null,
       "padding": null,
       "right": null,
       "top": null,
       "visibility": null,
       "width": null
      }
     },
     "138048decba64450a2b62dc931b4961e": {
      "model_module": "@jupyter-widgets/controls",
      "model_module_version": "1.5.0",
      "model_name": "HBoxModel",
      "state": {
       "_dom_classes": [],
       "_model_module": "@jupyter-widgets/controls",
       "_model_module_version": "1.5.0",
       "_model_name": "HBoxModel",
       "_view_count": null,
       "_view_module": "@jupyter-widgets/controls",
       "_view_module_version": "1.5.0",
       "_view_name": "HBoxView",
       "box_style": "",
       "children": [
        "IPY_MODEL_158c52bca05542a093d660a058b78eba",
        "IPY_MODEL_b53a2fc6592d41feb4504cfa9546ae09",
        "IPY_MODEL_008da6bbbdc84e1c9ac4692ee11a1fd4"
       ],
       "layout": "IPY_MODEL_ae55bb4bde86447cae604b562263d295"
      }
     },
     "158c52bca05542a093d660a058b78eba": {
      "model_module": "@jupyter-widgets/controls",
      "model_module_version": "1.5.0",
      "model_name": "HTMLModel",
      "state": {
       "_dom_classes": [],
       "_model_module": "@jupyter-widgets/controls",
       "_model_module_version": "1.5.0",
       "_model_name": "HTMLModel",
       "_view_count": null,
       "_view_module": "@jupyter-widgets/controls",
       "_view_module_version": "1.5.0",
       "_view_name": "HTMLView",
       "description": "",
       "description_tooltip": null,
       "layout": "IPY_MODEL_908315b3d12b43c2b6eb1a292019925f",
       "placeholder": "​",
       "style": "IPY_MODEL_6634d31df6fc4fbc858be6e1bf9dcf7b",
       "value": "100%"
      }
     },
     "49514c90c00c40bc8d5c02475740625d": {
      "model_module": "@jupyter-widgets/controls",
      "model_module_version": "1.5.0",
      "model_name": "DescriptionStyleModel",
      "state": {
       "_model_module": "@jupyter-widgets/controls",
       "_model_module_version": "1.5.0",
       "_model_name": "DescriptionStyleModel",
       "_view_count": null,
       "_view_module": "@jupyter-widgets/base",
       "_view_module_version": "1.2.0",
       "_view_name": "StyleView",
       "description_width": ""
      }
     },
     "4ddd5f6d52884854a64526b5c7ba137a": {
      "model_module": "@jupyter-widgets/controls",
      "model_module_version": "1.5.0",
      "model_name": "HTMLModel",
      "state": {
       "_dom_classes": [],
       "_model_module": "@jupyter-widgets/controls",
       "_model_module_version": "1.5.0",
       "_model_name": "HTMLModel",
       "_view_count": null,
       "_view_module": "@jupyter-widgets/controls",
       "_view_module_version": "1.5.0",
       "_view_name": "HTMLView",
       "description": "",
       "description_tooltip": null,
       "layout": "IPY_MODEL_7937fa0c5067417f98931feca14de130",
       "placeholder": "​",
       "style": "IPY_MODEL_b00dcd9ba58f48d0a706ee2287e8e0ce",
       "value": " 1/1 [00:07&lt;00:00,  7.64s/it]"
      }
     },
     "6634d31df6fc4fbc858be6e1bf9dcf7b": {
      "model_module": "@jupyter-widgets/controls",
      "model_module_version": "1.5.0",
      "model_name": "DescriptionStyleModel",
      "state": {
       "_model_module": "@jupyter-widgets/controls",
       "_model_module_version": "1.5.0",
       "_model_name": "DescriptionStyleModel",
       "_view_count": null,
       "_view_module": "@jupyter-widgets/base",
       "_view_module_version": "1.2.0",
       "_view_name": "StyleView",
       "description_width": ""
      }
     },
     "7937fa0c5067417f98931feca14de130": {
      "model_module": "@jupyter-widgets/base",
      "model_module_version": "1.2.0",
      "model_name": "LayoutModel",
      "state": {
       "_model_module": "@jupyter-widgets/base",
       "_model_module_version": "1.2.0",
       "_model_name": "LayoutModel",
       "_view_count": null,
       "_view_module": "@jupyter-widgets/base",
       "_view_module_version": "1.2.0",
       "_view_name": "LayoutView",
       "align_content": null,
       "align_items": null,
       "align_self": null,
       "border": null,
       "bottom": null,
       "display": null,
       "flex": null,
       "flex_flow": null,
       "grid_area": null,
       "grid_auto_columns": null,
       "grid_auto_flow": null,
       "grid_auto_rows": null,
       "grid_column": null,
       "grid_gap": null,
       "grid_row": null,
       "grid_template_areas": null,
       "grid_template_columns": null,
       "grid_template_rows": null,
       "height": null,
       "justify_content": null,
       "justify_items": null,
       "left": null,
       "margin": null,
       "max_height": null,
       "max_width": null,
       "min_height": null,
       "min_width": null,
       "object_fit": null,
       "object_position": null,
       "order": null,
       "overflow": null,
       "overflow_x": null,
       "overflow_y": null,
       "padding": null,
       "right": null,
       "top": null,
       "visibility": null,
       "width": null
      }
     },
     "7e68ea05fd0b4ede96acaa5a52ed5216": {
      "model_module": "@jupyter-widgets/controls",
      "model_module_version": "1.5.0",
      "model_name": "ProgressStyleModel",
      "state": {
       "_model_module": "@jupyter-widgets/controls",
       "_model_module_version": "1.5.0",
       "_model_name": "ProgressStyleModel",
       "_view_count": null,
       "_view_module": "@jupyter-widgets/base",
       "_view_module_version": "1.2.0",
       "_view_name": "StyleView",
       "bar_color": null,
       "description_width": ""
      }
     },
     "8aed8a1f44bd446c8a87b4931d383e4e": {
      "model_module": "@jupyter-widgets/controls",
      "model_module_version": "1.5.0",
      "model_name": "FloatProgressModel",
      "state": {
       "_dom_classes": [],
       "_model_module": "@jupyter-widgets/controls",
       "_model_module_version": "1.5.0",
       "_model_name": "FloatProgressModel",
       "_view_count": null,
       "_view_module": "@jupyter-widgets/controls",
       "_view_module_version": "1.5.0",
       "_view_name": "ProgressView",
       "bar_style": "success",
       "description": "",
       "description_tooltip": null,
       "layout": "IPY_MODEL_dc5bbd4d43d2481b88d59bff0c57f369",
       "max": 1,
       "min": 0,
       "orientation": "horizontal",
       "style": "IPY_MODEL_7e68ea05fd0b4ede96acaa5a52ed5216",
       "value": 1
      }
     },
     "908315b3d12b43c2b6eb1a292019925f": {
      "model_module": "@jupyter-widgets/base",
      "model_module_version": "1.2.0",
      "model_name": "LayoutModel",
      "state": {
       "_model_module": "@jupyter-widgets/base",
       "_model_module_version": "1.2.0",
       "_model_name": "LayoutModel",
       "_view_count": null,
       "_view_module": "@jupyter-widgets/base",
       "_view_module_version": "1.2.0",
       "_view_name": "LayoutView",
       "align_content": null,
       "align_items": null,
       "align_self": null,
       "border": null,
       "bottom": null,
       "display": null,
       "flex": null,
       "flex_flow": null,
       "grid_area": null,
       "grid_auto_columns": null,
       "grid_auto_flow": null,
       "grid_auto_rows": null,
       "grid_column": null,
       "grid_gap": null,
       "grid_row": null,
       "grid_template_areas": null,
       "grid_template_columns": null,
       "grid_template_rows": null,
       "height": null,
       "justify_content": null,
       "justify_items": null,
       "left": null,
       "margin": null,
       "max_height": null,
       "max_width": null,
       "min_height": null,
       "min_width": null,
       "object_fit": null,
       "object_position": null,
       "order": null,
       "overflow": null,
       "overflow_x": null,
       "overflow_y": null,
       "padding": null,
       "right": null,
       "top": null,
       "visibility": null,
       "width": null
      }
     },
     "a7eb484af1c847f2983815952eb44f91": {
      "model_module": "@jupyter-widgets/base",
      "model_module_version": "1.2.0",
      "model_name": "LayoutModel",
      "state": {
       "_model_module": "@jupyter-widgets/base",
       "_model_module_version": "1.2.0",
       "_model_name": "LayoutModel",
       "_view_count": null,
       "_view_module": "@jupyter-widgets/base",
       "_view_module_version": "1.2.0",
       "_view_name": "LayoutView",
       "align_content": null,
       "align_items": null,
       "align_self": null,
       "border": null,
       "bottom": null,
       "display": null,
       "flex": null,
       "flex_flow": null,
       "grid_area": null,
       "grid_auto_columns": null,
       "grid_auto_flow": null,
       "grid_auto_rows": null,
       "grid_column": null,
       "grid_gap": null,
       "grid_row": null,
       "grid_template_areas": null,
       "grid_template_columns": null,
       "grid_template_rows": null,
       "height": null,
       "justify_content": null,
       "justify_items": null,
       "left": null,
       "margin": null,
       "max_height": null,
       "max_width": null,
       "min_height": null,
       "min_width": null,
       "object_fit": null,
       "object_position": null,
       "order": null,
       "overflow": null,
       "overflow_x": null,
       "overflow_y": null,
       "padding": null,
       "right": null,
       "top": null,
       "visibility": null,
       "width": null
      }
     },
     "ae55bb4bde86447cae604b562263d295": {
      "model_module": "@jupyter-widgets/base",
      "model_module_version": "1.2.0",
      "model_name": "LayoutModel",
      "state": {
       "_model_module": "@jupyter-widgets/base",
       "_model_module_version": "1.2.0",
       "_model_name": "LayoutModel",
       "_view_count": null,
       "_view_module": "@jupyter-widgets/base",
       "_view_module_version": "1.2.0",
       "_view_name": "LayoutView",
       "align_content": null,
       "align_items": null,
       "align_self": null,
       "border": null,
       "bottom": null,
       "display": null,
       "flex": null,
       "flex_flow": null,
       "grid_area": null,
       "grid_auto_columns": null,
       "grid_auto_flow": null,
       "grid_auto_rows": null,
       "grid_column": null,
       "grid_gap": null,
       "grid_row": null,
       "grid_template_areas": null,
       "grid_template_columns": null,
       "grid_template_rows": null,
       "height": null,
       "justify_content": null,
       "justify_items": null,
       "left": null,
       "margin": null,
       "max_height": null,
       "max_width": null,
       "min_height": null,
       "min_width": null,
       "object_fit": null,
       "object_position": null,
       "order": null,
       "overflow": null,
       "overflow_x": null,
       "overflow_y": null,
       "padding": null,
       "right": null,
       "top": null,
       "visibility": null,
       "width": null
      }
     },
     "b00dcd9ba58f48d0a706ee2287e8e0ce": {
      "model_module": "@jupyter-widgets/controls",
      "model_module_version": "1.5.0",
      "model_name": "DescriptionStyleModel",
      "state": {
       "_model_module": "@jupyter-widgets/controls",
       "_model_module_version": "1.5.0",
       "_model_name": "DescriptionStyleModel",
       "_view_count": null,
       "_view_module": "@jupyter-widgets/base",
       "_view_module_version": "1.2.0",
       "_view_name": "StyleView",
       "description_width": ""
      }
     },
     "b53a2fc6592d41feb4504cfa9546ae09": {
      "model_module": "@jupyter-widgets/controls",
      "model_module_version": "1.5.0",
      "model_name": "FloatProgressModel",
      "state": {
       "_dom_classes": [],
       "_model_module": "@jupyter-widgets/controls",
       "_model_module_version": "1.5.0",
       "_model_name": "FloatProgressModel",
       "_view_count": null,
       "_view_module": "@jupyter-widgets/controls",
       "_view_module_version": "1.5.0",
       "_view_name": "ProgressView",
       "bar_style": "success",
       "description": "",
       "description_tooltip": null,
       "layout": "IPY_MODEL_c559a899562342bbbdd011f7bd399ed8",
       "max": 1,
       "min": 0,
       "orientation": "horizontal",
       "style": "IPY_MODEL_bb839f2bb59f47f48968c6fb5bb3ab7a",
       "value": 1
      }
     },
     "b811162d20224a459a62e3b5b40a9f7e": {
      "model_module": "@jupyter-widgets/controls",
      "model_module_version": "1.5.0",
      "model_name": "HTMLModel",
      "state": {
       "_dom_classes": [],
       "_model_module": "@jupyter-widgets/controls",
       "_model_module_version": "1.5.0",
       "_model_name": "HTMLModel",
       "_view_count": null,
       "_view_module": "@jupyter-widgets/controls",
       "_view_module_version": "1.5.0",
       "_view_name": "HTMLView",
       "description": "",
       "description_tooltip": null,
       "layout": "IPY_MODEL_a7eb484af1c847f2983815952eb44f91",
       "placeholder": "​",
       "style": "IPY_MODEL_49514c90c00c40bc8d5c02475740625d",
       "value": "100%"
      }
     },
     "bb839f2bb59f47f48968c6fb5bb3ab7a": {
      "model_module": "@jupyter-widgets/controls",
      "model_module_version": "1.5.0",
      "model_name": "ProgressStyleModel",
      "state": {
       "_model_module": "@jupyter-widgets/controls",
       "_model_module_version": "1.5.0",
       "_model_name": "ProgressStyleModel",
       "_view_count": null,
       "_view_module": "@jupyter-widgets/base",
       "_view_module_version": "1.2.0",
       "_view_name": "StyleView",
       "bar_color": null,
       "description_width": ""
      }
     },
     "c559a899562342bbbdd011f7bd399ed8": {
      "model_module": "@jupyter-widgets/base",
      "model_module_version": "1.2.0",
      "model_name": "LayoutModel",
      "state": {
       "_model_module": "@jupyter-widgets/base",
       "_model_module_version": "1.2.0",
       "_model_name": "LayoutModel",
       "_view_count": null,
       "_view_module": "@jupyter-widgets/base",
       "_view_module_version": "1.2.0",
       "_view_name": "LayoutView",
       "align_content": null,
       "align_items": null,
       "align_self": null,
       "border": null,
       "bottom": null,
       "display": null,
       "flex": null,
       "flex_flow": null,
       "grid_area": null,
       "grid_auto_columns": null,
       "grid_auto_flow": null,
       "grid_auto_rows": null,
       "grid_column": null,
       "grid_gap": null,
       "grid_row": null,
       "grid_template_areas": null,
       "grid_template_columns": null,
       "grid_template_rows": null,
       "height": null,
       "justify_content": null,
       "justify_items": null,
       "left": null,
       "margin": null,
       "max_height": null,
       "max_width": null,
       "min_height": null,
       "min_width": null,
       "object_fit": null,
       "object_position": null,
       "order": null,
       "overflow": null,
       "overflow_x": null,
       "overflow_y": null,
       "padding": null,
       "right": null,
       "top": null,
       "visibility": null,
       "width": null
      }
     },
     "dac6d37cd61f47c0bf51625d00ce13ac": {
      "model_module": "@jupyter-widgets/controls",
      "model_module_version": "1.5.0",
      "model_name": "HBoxModel",
      "state": {
       "_dom_classes": [],
       "_model_module": "@jupyter-widgets/controls",
       "_model_module_version": "1.5.0",
       "_model_name": "HBoxModel",
       "_view_count": null,
       "_view_module": "@jupyter-widgets/controls",
       "_view_module_version": "1.5.0",
       "_view_name": "HBoxView",
       "box_style": "",
       "children": [
        "IPY_MODEL_b811162d20224a459a62e3b5b40a9f7e",
        "IPY_MODEL_8aed8a1f44bd446c8a87b4931d383e4e",
        "IPY_MODEL_4ddd5f6d52884854a64526b5c7ba137a"
       ],
       "layout": "IPY_MODEL_dd1f5c350e534f84999256c8593045e1"
      }
     },
     "dc5bbd4d43d2481b88d59bff0c57f369": {
      "model_module": "@jupyter-widgets/base",
      "model_module_version": "1.2.0",
      "model_name": "LayoutModel",
      "state": {
       "_model_module": "@jupyter-widgets/base",
       "_model_module_version": "1.2.0",
       "_model_name": "LayoutModel",
       "_view_count": null,
       "_view_module": "@jupyter-widgets/base",
       "_view_module_version": "1.2.0",
       "_view_name": "LayoutView",
       "align_content": null,
       "align_items": null,
       "align_self": null,
       "border": null,
       "bottom": null,
       "display": null,
       "flex": null,
       "flex_flow": null,
       "grid_area": null,
       "grid_auto_columns": null,
       "grid_auto_flow": null,
       "grid_auto_rows": null,
       "grid_column": null,
       "grid_gap": null,
       "grid_row": null,
       "grid_template_areas": null,
       "grid_template_columns": null,
       "grid_template_rows": null,
       "height": null,
       "justify_content": null,
       "justify_items": null,
       "left": null,
       "margin": null,
       "max_height": null,
       "max_width": null,
       "min_height": null,
       "min_width": null,
       "object_fit": null,
       "object_position": null,
       "order": null,
       "overflow": null,
       "overflow_x": null,
       "overflow_y": null,
       "padding": null,
       "right": null,
       "top": null,
       "visibility": null,
       "width": null
      }
     },
     "dd1f5c350e534f84999256c8593045e1": {
      "model_module": "@jupyter-widgets/base",
      "model_module_version": "1.2.0",
      "model_name": "LayoutModel",
      "state": {
       "_model_module": "@jupyter-widgets/base",
       "_model_module_version": "1.2.0",
       "_model_name": "LayoutModel",
       "_view_count": null,
       "_view_module": "@jupyter-widgets/base",
       "_view_module_version": "1.2.0",
       "_view_name": "LayoutView",
       "align_content": null,
       "align_items": null,
       "align_self": null,
       "border": null,
       "bottom": null,
       "display": null,
       "flex": null,
       "flex_flow": null,
       "grid_area": null,
       "grid_auto_columns": null,
       "grid_auto_flow": null,
       "grid_auto_rows": null,
       "grid_column": null,
       "grid_gap": null,
       "grid_row": null,
       "grid_template_areas": null,
       "grid_template_columns": null,
       "grid_template_rows": null,
       "height": null,
       "justify_content": null,
       "justify_items": null,
       "left": null,
       "margin": null,
       "max_height": null,
       "max_width": null,
       "min_height": null,
       "min_width": null,
       "object_fit": null,
       "object_position": null,
       "order": null,
       "overflow": null,
       "overflow_x": null,
       "overflow_y": null,
       "padding": null,
       "right": null,
       "top": null,
       "visibility": null,
       "width": null
      }
     }
    },
    "version_major": 2,
    "version_minor": 0
   }
  }
 },
 "nbformat": 4,
 "nbformat_minor": 4
}
