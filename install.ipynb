{
 "cells": [
  {
   "cell_type": "markdown",
   "id": "4e7e5c51-9a88-4a46-ab60-2fe3fe15a8ee",
   "metadata": {},
   "source": [
    "# For training needs the following install"
   ]
  },
  {
   "cell_type": "code",
   "execution_count": null,
   "id": "ba0a4c85-6c68-449b-be8a-6cdf5d88b432",
   "metadata": {},
   "outputs": [],
   "source": [
    "# !pip install zarr\n",
    "# !pip install fastai\n",
    "# !pip install --no-deps deepflash2-lfs/\n",
    "# !pip install segmentation_models_pytorch\n",
    "# !pip install albumentations"
   ]
  },
  {
   "cell_type": "markdown",
   "id": "9ff09b1f-9c46-47d7-821e-2ade6bd4a819",
   "metadata": {},
   "source": [
    "# For preprocessing, needs the following"
   ]
  },
  {
   "cell_type": "code",
   "execution_count": null,
   "id": "e3b84afc-f424-472e-969f-4540a406d98b",
   "metadata": {},
   "outputs": [],
   "source": []
  }
 ],
 "metadata": {
  "kernelspec": {
   "display_name": "Python 3 (ipykernel)",
   "language": "python",
   "name": "python3"
  },
  "language_info": {
   "codemirror_mode": {
    "name": "ipython",
    "version": 3
   },
   "file_extension": ".py",
   "mimetype": "text/x-python",
   "name": "python",
   "nbconvert_exporter": "python",
   "pygments_lexer": "ipython3",
   "version": "3.9.13"
  }
 },
 "nbformat": 4,
 "nbformat_minor": 5
}
